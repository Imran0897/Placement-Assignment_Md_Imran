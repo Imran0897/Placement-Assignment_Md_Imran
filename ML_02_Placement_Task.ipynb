{
  "nbformat": 4,
  "nbformat_minor": 0,
  "metadata": {
    "colab": {
      "provenance": [],
      "mount_file_id": "1UB8b0KaCyZu-lvwqmENeoHiEFyByMSo5",
      "authorship_tag": "ABX9TyOfyBAIOWSLB2J0EvD7EP1j",
      "include_colab_link": true
    },
    "kernelspec": {
      "name": "python3",
      "display_name": "Python 3"
    },
    "language_info": {
      "name": "python"
    }
  },
  "cells": [
    {
      "cell_type": "markdown",
      "metadata": {
        "id": "view-in-github",
        "colab_type": "text"
      },
      "source": [
        "<a href=\"https://colab.research.google.com/github/Imran0897/Placement-Assignment_Md_Imran/blob/main/ML_02_Placement_Task.ipynb\" target=\"_parent\"><img src=\"https://colab.research.google.com/assets/colab-badge.svg\" alt=\"Open In Colab\"/></a>"
      ]
    },
    {
      "cell_type": "code",
      "source": [
        "import numpy as np \n",
        "import pandas as pd\n",
        "import matplotlib.pyplot as plt\n",
        "import seaborn as sns\n",
        "from sklearn.preprocessing import StandardScaler\n",
        "from sklearn.model_selection import train_test_split, cross_validate\n",
        "from sklearn.preprocessing import OrdinalEncoder\n",
        "from sklearn.metrics import accuracy_score\n",
        "from sklearn.pipeline import Pipeline\n",
        "from sklearn.ensemble import RandomForestClassifier"
      ],
      "metadata": {
        "id": "1ssKtUmoWfeZ"
      },
      "execution_count": 6,
      "outputs": []
    },
    {
      "cell_type": "code",
      "source": [
        "df = pd.read_csv(\"/content/drive/MyDrive/Placement_Task/ML_02/ObesityDataSet_raw_and_data_sinthetic.csv\")"
      ],
      "metadata": {
        "id": "9LT3ihPPOUzI"
      },
      "execution_count": 35,
      "outputs": []
    },
    {
      "cell_type": "code",
      "source": [
        "df.head()"
      ],
      "metadata": {
        "colab": {
          "base_uri": "https://localhost:8080/",
          "height": 270
        },
        "id": "VRTYv1pAOjdh",
        "outputId": "03b38890-7b68-44a9-a75b-4478850d51ee"
      },
      "execution_count": 36,
      "outputs": [
        {
          "output_type": "execute_result",
          "data": {
            "text/plain": [
              "   Gender   Age  Height  Weight family_history_with_overweight FAVC  FCVC  \\\n",
              "0  Female  21.0    1.62    64.0                            yes   no   2.0   \n",
              "1  Female  21.0    1.52    56.0                            yes   no   3.0   \n",
              "2    Male  23.0    1.80    77.0                            yes   no   2.0   \n",
              "3    Male  27.0    1.80    87.0                             no   no   3.0   \n",
              "4    Male  22.0    1.78    89.8                             no   no   2.0   \n",
              "\n",
              "   NCP       CAEC SMOKE  CH2O  SCC  FAF  TUE        CALC  \\\n",
              "0  3.0  Sometimes    no   2.0   no  0.0  1.0          no   \n",
              "1  3.0  Sometimes   yes   3.0  yes  3.0  0.0   Sometimes   \n",
              "2  3.0  Sometimes    no   2.0   no  2.0  1.0  Frequently   \n",
              "3  3.0  Sometimes    no   2.0   no  2.0  0.0  Frequently   \n",
              "4  1.0  Sometimes    no   2.0   no  0.0  0.0   Sometimes   \n",
              "\n",
              "                  MTRANS           NObeyesdad  \n",
              "0  Public_Transportation        Normal_Weight  \n",
              "1  Public_Transportation        Normal_Weight  \n",
              "2  Public_Transportation        Normal_Weight  \n",
              "3                Walking   Overweight_Level_I  \n",
              "4  Public_Transportation  Overweight_Level_II  "
            ],
            "text/html": [
              "\n",
              "  <div id=\"df-979d67d4-b6e3-4a56-9807-15dad60595b2\">\n",
              "    <div class=\"colab-df-container\">\n",
              "      <div>\n",
              "<style scoped>\n",
              "    .dataframe tbody tr th:only-of-type {\n",
              "        vertical-align: middle;\n",
              "    }\n",
              "\n",
              "    .dataframe tbody tr th {\n",
              "        vertical-align: top;\n",
              "    }\n",
              "\n",
              "    .dataframe thead th {\n",
              "        text-align: right;\n",
              "    }\n",
              "</style>\n",
              "<table border=\"1\" class=\"dataframe\">\n",
              "  <thead>\n",
              "    <tr style=\"text-align: right;\">\n",
              "      <th></th>\n",
              "      <th>Gender</th>\n",
              "      <th>Age</th>\n",
              "      <th>Height</th>\n",
              "      <th>Weight</th>\n",
              "      <th>family_history_with_overweight</th>\n",
              "      <th>FAVC</th>\n",
              "      <th>FCVC</th>\n",
              "      <th>NCP</th>\n",
              "      <th>CAEC</th>\n",
              "      <th>SMOKE</th>\n",
              "      <th>CH2O</th>\n",
              "      <th>SCC</th>\n",
              "      <th>FAF</th>\n",
              "      <th>TUE</th>\n",
              "      <th>CALC</th>\n",
              "      <th>MTRANS</th>\n",
              "      <th>NObeyesdad</th>\n",
              "    </tr>\n",
              "  </thead>\n",
              "  <tbody>\n",
              "    <tr>\n",
              "      <th>0</th>\n",
              "      <td>Female</td>\n",
              "      <td>21.0</td>\n",
              "      <td>1.62</td>\n",
              "      <td>64.0</td>\n",
              "      <td>yes</td>\n",
              "      <td>no</td>\n",
              "      <td>2.0</td>\n",
              "      <td>3.0</td>\n",
              "      <td>Sometimes</td>\n",
              "      <td>no</td>\n",
              "      <td>2.0</td>\n",
              "      <td>no</td>\n",
              "      <td>0.0</td>\n",
              "      <td>1.0</td>\n",
              "      <td>no</td>\n",
              "      <td>Public_Transportation</td>\n",
              "      <td>Normal_Weight</td>\n",
              "    </tr>\n",
              "    <tr>\n",
              "      <th>1</th>\n",
              "      <td>Female</td>\n",
              "      <td>21.0</td>\n",
              "      <td>1.52</td>\n",
              "      <td>56.0</td>\n",
              "      <td>yes</td>\n",
              "      <td>no</td>\n",
              "      <td>3.0</td>\n",
              "      <td>3.0</td>\n",
              "      <td>Sometimes</td>\n",
              "      <td>yes</td>\n",
              "      <td>3.0</td>\n",
              "      <td>yes</td>\n",
              "      <td>3.0</td>\n",
              "      <td>0.0</td>\n",
              "      <td>Sometimes</td>\n",
              "      <td>Public_Transportation</td>\n",
              "      <td>Normal_Weight</td>\n",
              "    </tr>\n",
              "    <tr>\n",
              "      <th>2</th>\n",
              "      <td>Male</td>\n",
              "      <td>23.0</td>\n",
              "      <td>1.80</td>\n",
              "      <td>77.0</td>\n",
              "      <td>yes</td>\n",
              "      <td>no</td>\n",
              "      <td>2.0</td>\n",
              "      <td>3.0</td>\n",
              "      <td>Sometimes</td>\n",
              "      <td>no</td>\n",
              "      <td>2.0</td>\n",
              "      <td>no</td>\n",
              "      <td>2.0</td>\n",
              "      <td>1.0</td>\n",
              "      <td>Frequently</td>\n",
              "      <td>Public_Transportation</td>\n",
              "      <td>Normal_Weight</td>\n",
              "    </tr>\n",
              "    <tr>\n",
              "      <th>3</th>\n",
              "      <td>Male</td>\n",
              "      <td>27.0</td>\n",
              "      <td>1.80</td>\n",
              "      <td>87.0</td>\n",
              "      <td>no</td>\n",
              "      <td>no</td>\n",
              "      <td>3.0</td>\n",
              "      <td>3.0</td>\n",
              "      <td>Sometimes</td>\n",
              "      <td>no</td>\n",
              "      <td>2.0</td>\n",
              "      <td>no</td>\n",
              "      <td>2.0</td>\n",
              "      <td>0.0</td>\n",
              "      <td>Frequently</td>\n",
              "      <td>Walking</td>\n",
              "      <td>Overweight_Level_I</td>\n",
              "    </tr>\n",
              "    <tr>\n",
              "      <th>4</th>\n",
              "      <td>Male</td>\n",
              "      <td>22.0</td>\n",
              "      <td>1.78</td>\n",
              "      <td>89.8</td>\n",
              "      <td>no</td>\n",
              "      <td>no</td>\n",
              "      <td>2.0</td>\n",
              "      <td>1.0</td>\n",
              "      <td>Sometimes</td>\n",
              "      <td>no</td>\n",
              "      <td>2.0</td>\n",
              "      <td>no</td>\n",
              "      <td>0.0</td>\n",
              "      <td>0.0</td>\n",
              "      <td>Sometimes</td>\n",
              "      <td>Public_Transportation</td>\n",
              "      <td>Overweight_Level_II</td>\n",
              "    </tr>\n",
              "  </tbody>\n",
              "</table>\n",
              "</div>\n",
              "      <button class=\"colab-df-convert\" onclick=\"convertToInteractive('df-979d67d4-b6e3-4a56-9807-15dad60595b2')\"\n",
              "              title=\"Convert this dataframe to an interactive table.\"\n",
              "              style=\"display:none;\">\n",
              "        \n",
              "  <svg xmlns=\"http://www.w3.org/2000/svg\" height=\"24px\"viewBox=\"0 0 24 24\"\n",
              "       width=\"24px\">\n",
              "    <path d=\"M0 0h24v24H0V0z\" fill=\"none\"/>\n",
              "    <path d=\"M18.56 5.44l.94 2.06.94-2.06 2.06-.94-2.06-.94-.94-2.06-.94 2.06-2.06.94zm-11 1L8.5 8.5l.94-2.06 2.06-.94-2.06-.94L8.5 2.5l-.94 2.06-2.06.94zm10 10l.94 2.06.94-2.06 2.06-.94-2.06-.94-.94-2.06-.94 2.06-2.06.94z\"/><path d=\"M17.41 7.96l-1.37-1.37c-.4-.4-.92-.59-1.43-.59-.52 0-1.04.2-1.43.59L10.3 9.45l-7.72 7.72c-.78.78-.78 2.05 0 2.83L4 21.41c.39.39.9.59 1.41.59.51 0 1.02-.2 1.41-.59l7.78-7.78 2.81-2.81c.8-.78.8-2.07 0-2.86zM5.41 20L4 18.59l7.72-7.72 1.47 1.35L5.41 20z\"/>\n",
              "  </svg>\n",
              "      </button>\n",
              "      \n",
              "  <style>\n",
              "    .colab-df-container {\n",
              "      display:flex;\n",
              "      flex-wrap:wrap;\n",
              "      gap: 12px;\n",
              "    }\n",
              "\n",
              "    .colab-df-convert {\n",
              "      background-color: #E8F0FE;\n",
              "      border: none;\n",
              "      border-radius: 50%;\n",
              "      cursor: pointer;\n",
              "      display: none;\n",
              "      fill: #1967D2;\n",
              "      height: 32px;\n",
              "      padding: 0 0 0 0;\n",
              "      width: 32px;\n",
              "    }\n",
              "\n",
              "    .colab-df-convert:hover {\n",
              "      background-color: #E2EBFA;\n",
              "      box-shadow: 0px 1px 2px rgba(60, 64, 67, 0.3), 0px 1px 3px 1px rgba(60, 64, 67, 0.15);\n",
              "      fill: #174EA6;\n",
              "    }\n",
              "\n",
              "    [theme=dark] .colab-df-convert {\n",
              "      background-color: #3B4455;\n",
              "      fill: #D2E3FC;\n",
              "    }\n",
              "\n",
              "    [theme=dark] .colab-df-convert:hover {\n",
              "      background-color: #434B5C;\n",
              "      box-shadow: 0px 1px 3px 1px rgba(0, 0, 0, 0.15);\n",
              "      filter: drop-shadow(0px 1px 2px rgba(0, 0, 0, 0.3));\n",
              "      fill: #FFFFFF;\n",
              "    }\n",
              "  </style>\n",
              "\n",
              "      <script>\n",
              "        const buttonEl =\n",
              "          document.querySelector('#df-979d67d4-b6e3-4a56-9807-15dad60595b2 button.colab-df-convert');\n",
              "        buttonEl.style.display =\n",
              "          google.colab.kernel.accessAllowed ? 'block' : 'none';\n",
              "\n",
              "        async function convertToInteractive(key) {\n",
              "          const element = document.querySelector('#df-979d67d4-b6e3-4a56-9807-15dad60595b2');\n",
              "          const dataTable =\n",
              "            await google.colab.kernel.invokeFunction('convertToInteractive',\n",
              "                                                     [key], {});\n",
              "          if (!dataTable) return;\n",
              "\n",
              "          const docLinkHtml = 'Like what you see? Visit the ' +\n",
              "            '<a target=\"_blank\" href=https://colab.research.google.com/notebooks/data_table.ipynb>data table notebook</a>'\n",
              "            + ' to learn more about interactive tables.';\n",
              "          element.innerHTML = '';\n",
              "          dataTable['output_type'] = 'display_data';\n",
              "          await google.colab.output.renderOutput(dataTable, element);\n",
              "          const docLink = document.createElement('div');\n",
              "          docLink.innerHTML = docLinkHtml;\n",
              "          element.appendChild(docLink);\n",
              "        }\n",
              "      </script>\n",
              "    </div>\n",
              "  </div>\n",
              "  "
            ]
          },
          "metadata": {},
          "execution_count": 36
        }
      ]
    },
    {
      "cell_type": "code",
      "source": [
        "df.info()"
      ],
      "metadata": {
        "colab": {
          "base_uri": "https://localhost:8080/"
        },
        "id": "3wq-9aGzOkdC",
        "outputId": "03a1bc53-3512-42a0-c8ba-4d788cb9dc4c"
      },
      "execution_count": 37,
      "outputs": [
        {
          "output_type": "stream",
          "name": "stdout",
          "text": [
            "<class 'pandas.core.frame.DataFrame'>\n",
            "RangeIndex: 2111 entries, 0 to 2110\n",
            "Data columns (total 17 columns):\n",
            " #   Column                          Non-Null Count  Dtype  \n",
            "---  ------                          --------------  -----  \n",
            " 0   Gender                          2111 non-null   object \n",
            " 1   Age                             2111 non-null   float64\n",
            " 2   Height                          2111 non-null   float64\n",
            " 3   Weight                          2111 non-null   float64\n",
            " 4   family_history_with_overweight  2111 non-null   object \n",
            " 5   FAVC                            2111 non-null   object \n",
            " 6   FCVC                            2111 non-null   float64\n",
            " 7   NCP                             2111 non-null   float64\n",
            " 8   CAEC                            2111 non-null   object \n",
            " 9   SMOKE                           2111 non-null   object \n",
            " 10  CH2O                            2111 non-null   float64\n",
            " 11  SCC                             2111 non-null   object \n",
            " 12  FAF                             2111 non-null   float64\n",
            " 13  TUE                             2111 non-null   float64\n",
            " 14  CALC                            2111 non-null   object \n",
            " 15  MTRANS                          2111 non-null   object \n",
            " 16  NObeyesdad                      2111 non-null   object \n",
            "dtypes: float64(8), object(9)\n",
            "memory usage: 280.5+ KB\n"
          ]
        }
      ]
    },
    {
      "cell_type": "code",
      "source": [
        "df.columns"
      ],
      "metadata": {
        "colab": {
          "base_uri": "https://localhost:8080/"
        },
        "id": "SOzYYCE-aGLu",
        "outputId": "ba05024c-a7f6-4832-90a0-85b40663e5c5"
      },
      "execution_count": 38,
      "outputs": [
        {
          "output_type": "execute_result",
          "data": {
            "text/plain": [
              "Index(['Gender', 'Age', 'Height', 'Weight', 'family_history_with_overweight',\n",
              "       'FAVC', 'FCVC', 'NCP', 'CAEC', 'SMOKE', 'CH2O', 'SCC', 'FAF', 'TUE',\n",
              "       'CALC', 'MTRANS', 'NObeyesdad'],\n",
              "      dtype='object')"
            ]
          },
          "metadata": {},
          "execution_count": 38
        }
      ]
    },
    {
      "cell_type": "code",
      "source": [
        "columns_cat_num = [i for i in df.columns if df[i].dtype == 'object' and i != 'NObeyesdad']"
      ],
      "metadata": {
        "id": "XvvQDhG9aR7Z"
      },
      "execution_count": 39,
      "outputs": []
    },
    {
      "cell_type": "code",
      "source": [
        "columns_cat_num"
      ],
      "metadata": {
        "colab": {
          "base_uri": "https://localhost:8080/"
        },
        "id": "BpdUFC0rcmiN",
        "outputId": "dffcc419-fc14-48f5-a545-163fbddada95"
      },
      "execution_count": 40,
      "outputs": [
        {
          "output_type": "execute_result",
          "data": {
            "text/plain": [
              "['Gender',\n",
              " 'family_history_with_overweight',\n",
              " 'FAVC',\n",
              " 'CAEC',\n",
              " 'SMOKE',\n",
              " 'SCC',\n",
              " 'CALC',\n",
              " 'MTRANS']"
            ]
          },
          "metadata": {},
          "execution_count": 40
        }
      ]
    },
    {
      "cell_type": "code",
      "source": [
        "df.shape"
      ],
      "metadata": {
        "colab": {
          "base_uri": "https://localhost:8080/"
        },
        "id": "vIn2x6tJOrCZ",
        "outputId": "23cb712a-70b0-43cd-a97c-6ca22fc73d88"
      },
      "execution_count": 41,
      "outputs": [
        {
          "output_type": "execute_result",
          "data": {
            "text/plain": [
              "(2111, 17)"
            ]
          },
          "metadata": {},
          "execution_count": 41
        }
      ]
    },
    {
      "cell_type": "code",
      "source": [
        "df.columns"
      ],
      "metadata": {
        "colab": {
          "base_uri": "https://localhost:8080/"
        },
        "id": "tHs5FtvmXj3k",
        "outputId": "27671d26-7233-4055-b66e-0066e70690f4"
      },
      "execution_count": 42,
      "outputs": [
        {
          "output_type": "execute_result",
          "data": {
            "text/plain": [
              "Index(['Gender', 'Age', 'Height', 'Weight', 'family_history_with_overweight',\n",
              "       'FAVC', 'FCVC', 'NCP', 'CAEC', 'SMOKE', 'CH2O', 'SCC', 'FAF', 'TUE',\n",
              "       'CALC', 'MTRANS', 'NObeyesdad'],\n",
              "      dtype='object')"
            ]
          },
          "metadata": {},
          "execution_count": 42
        }
      ]
    },
    {
      "cell_type": "code",
      "source": [
        "df.isnull().sum()"
      ],
      "metadata": {
        "colab": {
          "base_uri": "https://localhost:8080/"
        },
        "id": "jxiZpjv3XvUz",
        "outputId": "cee83414-7d78-4944-c511-6236bf076be2"
      },
      "execution_count": 43,
      "outputs": [
        {
          "output_type": "execute_result",
          "data": {
            "text/plain": [
              "Gender                            0\n",
              "Age                               0\n",
              "Height                            0\n",
              "Weight                            0\n",
              "family_history_with_overweight    0\n",
              "FAVC                              0\n",
              "FCVC                              0\n",
              "NCP                               0\n",
              "CAEC                              0\n",
              "SMOKE                             0\n",
              "CH2O                              0\n",
              "SCC                               0\n",
              "FAF                               0\n",
              "TUE                               0\n",
              "CALC                              0\n",
              "MTRANS                            0\n",
              "NObeyesdad                        0\n",
              "dtype: int64"
            ]
          },
          "metadata": {},
          "execution_count": 43
        }
      ]
    },
    {
      "cell_type": "code",
      "source": [
        "ordinal_encoder = OrdinalEncoder()\n",
        "df[columns_cat_num] = ordinal_encoder.fit_transform(df[columns_cat_num])"
      ],
      "metadata": {
        "id": "wjQl7kYPYZmc"
      },
      "execution_count": 44,
      "outputs": []
    },
    {
      "cell_type": "code",
      "source": [
        "df.info()"
      ],
      "metadata": {
        "colab": {
          "base_uri": "https://localhost:8080/"
        },
        "id": "8lpEsJ-lYLXX",
        "outputId": "95a35128-a721-485a-faed-c2dc75534b44"
      },
      "execution_count": 45,
      "outputs": [
        {
          "output_type": "stream",
          "name": "stdout",
          "text": [
            "<class 'pandas.core.frame.DataFrame'>\n",
            "RangeIndex: 2111 entries, 0 to 2110\n",
            "Data columns (total 17 columns):\n",
            " #   Column                          Non-Null Count  Dtype  \n",
            "---  ------                          --------------  -----  \n",
            " 0   Gender                          2111 non-null   float64\n",
            " 1   Age                             2111 non-null   float64\n",
            " 2   Height                          2111 non-null   float64\n",
            " 3   Weight                          2111 non-null   float64\n",
            " 4   family_history_with_overweight  2111 non-null   float64\n",
            " 5   FAVC                            2111 non-null   float64\n",
            " 6   FCVC                            2111 non-null   float64\n",
            " 7   NCP                             2111 non-null   float64\n",
            " 8   CAEC                            2111 non-null   float64\n",
            " 9   SMOKE                           2111 non-null   float64\n",
            " 10  CH2O                            2111 non-null   float64\n",
            " 11  SCC                             2111 non-null   float64\n",
            " 12  FAF                             2111 non-null   float64\n",
            " 13  TUE                             2111 non-null   float64\n",
            " 14  CALC                            2111 non-null   float64\n",
            " 15  MTRANS                          2111 non-null   float64\n",
            " 16  NObeyesdad                      2111 non-null   object \n",
            "dtypes: float64(16), object(1)\n",
            "memory usage: 280.5+ KB\n"
          ]
        }
      ]
    },
    {
      "cell_type": "code",
      "source": [
        "df['NObeyesdad'].value_counts()"
      ],
      "metadata": {
        "colab": {
          "base_uri": "https://localhost:8080/"
        },
        "id": "xaEU-eV0fVC8",
        "outputId": "3ce33ebf-e2c3-4d72-cf50-231791c5569f"
      },
      "execution_count": 46,
      "outputs": [
        {
          "output_type": "execute_result",
          "data": {
            "text/plain": [
              "Obesity_Type_I         351\n",
              "Obesity_Type_III       324\n",
              "Obesity_Type_II        297\n",
              "Overweight_Level_I     290\n",
              "Overweight_Level_II    290\n",
              "Normal_Weight          287\n",
              "Insufficient_Weight    272\n",
              "Name: NObeyesdad, dtype: int64"
            ]
          },
          "metadata": {},
          "execution_count": 46
        }
      ]
    },
    {
      "cell_type": "code",
      "source": [
        "dic_to_replace = {\"Insufficient_Weight\": 0, \n",
        "                          \"Normal_Weight\": 1,\n",
        "                         'Overweight_Level_I': 2,\n",
        "                          'Overweight_Level_II': 3,\n",
        "                          'Obesity_Type_I': 4,\n",
        "                          'Obesity_Type_II': 5,\n",
        "                          'Obesity_Type_III': 6\n",
        "                         }"
      ],
      "metadata": {
        "id": "Y7fj6pv4evo4"
      },
      "execution_count": 47,
      "outputs": []
    },
    {
      "cell_type": "code",
      "source": [
        "df['NObeyesdad']=df['NObeyesdad'].map(dic_to_replace)"
      ],
      "metadata": {
        "id": "RiUFnjU2d9HM"
      },
      "execution_count": 48,
      "outputs": []
    },
    {
      "cell_type": "code",
      "source": [
        "import math\n",
        "# Menghitung jumlah baris dan kolom yang dibutuhkan\n",
        "n_cols = len(df.columns)\n",
        "n_rows = math.ceil(n_cols/6)\n",
        "\n",
        "# Mengatur ukuran figure\n",
        "fig, axes = plt.subplots(nrows=n_rows, ncols=6, figsize=(20, 10))\n",
        "\n",
        "# Mengatur jarak antar subplot\n",
        "plt.subplots_adjust(hspace=0.5, wspace=0.5)\n",
        "\n",
        "# Menampilkan histogram pada setiap kolom\n",
        "for i, ax in enumerate(axes.flatten()):\n",
        "    if i < n_cols:\n",
        "        ax.hist(df.iloc[:, i], bins=10)\n",
        "        ax.set_title(df.columns[i])\n",
        "    else:\n",
        "        fig.delaxes(ax) # Menghapus subplot yang tersisa\n",
        "\n",
        "# Menampilkan grafik\n",
        "plt.show()"
      ],
      "metadata": {
        "colab": {
          "base_uri": "https://localhost:8080/",
          "height": 584
        },
        "id": "RvGBYvKpge8n",
        "outputId": "c1fbb0f7-fe5d-408b-cb1a-3c559accda02"
      },
      "execution_count": 51,
      "outputs": [
        {
          "output_type": "display_data",
          "data": {
            "text/plain": [
              "<Figure size 2000x1000 with 17 Axes>"
            ],
            "image/png": "[encoded data removed]"
          },
          "metadata": {}
        }
      ]
    },
    {
      "cell_type": "code",
      "source": [
        "plt.figure(figsize=(10,5))\n",
        "plt.subplot(131)\n",
        "sns.countplot(x= 'family_history_with_overweight', data = df, palette=\"GnBu_d\",edgecolor=\"black\")\n",
        "plt.subplot(132)\n",
        "sns.countplot(x= 'FAVC', data = df, palette=\"flag\",edgecolor=\"black\")"
      ],
      "metadata": {
        "colab": {
          "base_uri": "https://localhost:8080/",
          "height": 483
        },
        "id": "N-2rD9Hlg-EE",
        "outputId": "0249e5aa-b5bb-439c-8557-14df1e7082e2"
      },
      "execution_count": 55,
      "outputs": [
        {
          "output_type": "execute_result",
          "data": {
            "text/plain": [
              "<Axes: xlabel='FAVC', ylabel='count'>"
            ]
          },
          "metadata": {},
          "execution_count": 55
        },
        {
          "output_type": "display_data",
          "data": {
            "text/plain": [
              "<Figure size 1000x500 with 2 Axes>"
            ],
            "image/png": "[encoded data removed]"
          },
          "metadata": {}
        }
      ]
    },
    {
      "cell_type": "code",
      "source": [
        "plt.figure(figsize=(10,5))\n",
        "plt.subplot(131)\n",
        "sns.countplot(x= 'CAEC', data = df, palette=\"GnBu_d\",edgecolor=\"black\")\n",
        "plt.subplot(132)\n",
        "sns.countplot(x= 'SMOKE', data = df, palette=\"flag\",edgecolor=\"black\")"
      ],
      "metadata": {
        "colab": {
          "base_uri": "https://localhost:8080/",
          "height": 465
        },
        "id": "GWdWQbLUhb1v",
        "outputId": "c3bd2cdb-3e8f-44e3-c269-5c9d93234b68"
      },
      "execution_count": 58,
      "outputs": [
        {
          "output_type": "display_data",
          "data": {
            "text/plain": [
              "<Figure size 1000x500 with 2 Axes>"
            ],
            "image/png": "[encoded data removed]"
          },
          "metadata": {}
        }
      ]
    },
    {
      "cell_type": "code",
      "source": [
        "plt.figure(figsize=(10,5))\n",
        "plt.subplot(131)\n",
        "sns.countplot(x= 'SCC', data = df, palette=\"GnBu_d\",edgecolor=\"black\")\n",
        "plt.subplot(132)\n",
        "sns.countplot(x= 'CALC', data = df, palette=\"flag\",edgecolor=\"black\")\n",
        "plt.subplot(133)\n",
        "sns.countplot(x= 'MTRANS', data = df, palette=\"Greens_r\",edgecolor=\"black\")"
      ],
      "metadata": {
        "colab": {
          "base_uri": "https://localhost:8080/",
          "height": 465
        },
        "id": "tNmjMr-ehzW_",
        "outputId": "bc78b0ef-ec43-477b-eb00-bf8b93ed8668"
      },
      "execution_count": 60,
      "outputs": [
        {
          "output_type": "display_data",
          "data": {
            "text/plain": [
              "<Figure size 1000x500 with 3 Axes>"
            ],
            "image/png": "[encoded data removed]"
          },
          "metadata": {}
        }
      ]
    },
    {
      "cell_type": "code",
      "source": [
        "ax = sns.countplot(x = \"NObeyesdad\",data=df, palette=\"flag\",edgecolor=\"black\")\n",
        "plt.title('Distribusi data BMI')\n",
        "sns.set(font_scale=1)"
      ],
      "metadata": {
        "colab": {
          "base_uri": "https://localhost:8080/",
          "height": 472
        },
        "id": "lQLU_4qtiE7T",
        "outputId": "77fd458b-a25f-488e-e991-dd5d87a778f5"
      },
      "execution_count": 62,
      "outputs": [
        {
          "output_type": "display_data",
          "data": {
            "text/plain": [
              "<Figure size 640x480 with 1 Axes>"
            ],
            "image/png": "[encoded data removed]"
          },
          "metadata": {}
        }
      ]
    },
    {
      "cell_type": "code",
      "source": [
        "df.corr()"
      ],
      "metadata": {
        "colab": {
          "base_uri": "https://localhost:8080/",
          "height": 646
        },
        "id": "ETcz2CLriSsb",
        "outputId": "61865bc9-16e6-445b-8d53-eef1d75ed1ba"
      },
      "execution_count": 63,
      "outputs": [
        {
          "output_type": "execute_result",
          "data": {
            "text/plain": [
              "                                  Gender       Age    Height    Weight  \\\n",
              "Gender                          1.000000  0.048394  0.618466  0.161668   \n",
              "Age                             0.048394  1.000000 -0.025958  0.202560   \n",
              "Height                          0.618466 -0.025958  1.000000  0.463136   \n",
              "Weight                          0.161668  0.202560  0.463136  1.000000   \n",
              "family_history_with_overweight  0.102512  0.205725  0.247684  0.496820   \n",
              "FAVC                            0.064934  0.063902  0.178364  0.272300   \n",
              "FCVC                           -0.274505  0.016291 -0.038121  0.216125   \n",
              "NCP                             0.067600 -0.043944  0.243672  0.107469   \n",
              "CAEC                            0.091543  0.083739  0.048818  0.287493   \n",
              "SMOKE                           0.044698  0.091987  0.055499  0.025746   \n",
              "CH2O                            0.107930 -0.045304  0.213376  0.200575   \n",
              "SCC                            -0.102633 -0.116283 -0.133753 -0.201906   \n",
              "FAF                             0.189607 -0.144938  0.294709 -0.051436   \n",
              "TUE                             0.017269 -0.296931  0.051912 -0.071561   \n",
              "CALC                            0.007616 -0.044487 -0.129732 -0.206677   \n",
              "MTRANS                         -0.137537 -0.601945 -0.073609  0.004610   \n",
              "NObeyesdad                     -0.031464  0.282913  0.133565  0.913251   \n",
              "\n",
              "                                family_history_with_overweight      FAVC  \\\n",
              "Gender                                                0.102512  0.064934   \n",
              "Age                                                   0.205725  0.063902   \n",
              "Height                                                0.247684  0.178364   \n",
              "Weight                                                0.496820  0.272300   \n",
              "family_history_with_overweight                        1.000000  0.208036   \n",
              "FAVC                                                  0.208036  1.000000   \n",
              "FCVC                                                  0.040372 -0.027283   \n",
              "NCP                                                   0.071370 -0.007000   \n",
              "CAEC                                                  0.169787  0.150068   \n",
              "SMOKE                                                 0.017385 -0.050660   \n",
              "CH2O                                                  0.147437  0.009719   \n",
              "SCC                                                  -0.185422 -0.190658   \n",
              "FAF                                                  -0.056673 -0.107995   \n",
              "TUE                                                   0.022943  0.068417   \n",
              "CALC                                                  0.036676 -0.089520   \n",
              "MTRANS                                               -0.101540 -0.069800   \n",
              "NObeyesdad                                            0.505148  0.247793   \n",
              "\n",
              "                                    FCVC       NCP      CAEC     SMOKE  \\\n",
              "Gender                         -0.274505  0.067600  0.091543  0.044698   \n",
              "Age                             0.016291 -0.043944  0.083739  0.091987   \n",
              "Height                         -0.038121  0.243672  0.048818  0.055499   \n",
              "Weight                          0.216125  0.107469  0.287493  0.025746   \n",
              "family_history_with_overweight  0.040372  0.071370  0.169787  0.017385   \n",
              "FAVC                           -0.027283 -0.007000  0.150068 -0.050660   \n",
              "FCVC                            1.000000  0.042216 -0.054670  0.014320   \n",
              "NCP                             0.042216  1.000000 -0.097801  0.007811   \n",
              "CAEC                           -0.054670 -0.097801  1.000000 -0.055282   \n",
              "SMOKE                           0.014320  0.007811 -0.055282  1.000000   \n",
              "CH2O                            0.068461  0.057088  0.144995 -0.031995   \n",
              "SCC                             0.071852 -0.015624 -0.109179  0.047731   \n",
              "FAF                             0.019939  0.129504 -0.030110  0.011216   \n",
              "TUE                            -0.101135  0.036326 -0.048567  0.017613   \n",
              "CALC                           -0.060781 -0.071747 -0.047540 -0.082471   \n",
              "MTRANS                          0.064743 -0.053858 -0.048535 -0.010702   \n",
              "NObeyesdad                      0.227759  0.026690  0.329350  0.003442   \n",
              "\n",
              "                                    CH2O       SCC       FAF       TUE  \\\n",
              "Gender                          0.107930 -0.102633  0.189607  0.017269   \n",
              "Age                            -0.045304 -0.116283 -0.144938 -0.296931   \n",
              "Height                          0.213376 -0.133753  0.294709  0.051912   \n",
              "Weight                          0.200575 -0.201906 -0.051436 -0.071561   \n",
              "family_history_with_overweight  0.147437 -0.185422 -0.056673  0.022943   \n",
              "FAVC                            0.009719 -0.190658 -0.107995  0.068417   \n",
              "FCVC                            0.068461  0.071852  0.019939 -0.101135   \n",
              "NCP                             0.057088 -0.015624  0.129504  0.036326   \n",
              "CAEC                            0.144995 -0.109179 -0.030110 -0.048567   \n",
              "SMOKE                          -0.031995  0.047731  0.011216  0.017613   \n",
              "CH2O                            1.000000  0.008036  0.167236  0.011965   \n",
              "SCC                             0.008036  1.000000  0.074221 -0.010928   \n",
              "FAF                             0.167236  0.074221  1.000000  0.058562   \n",
              "TUE                             0.011965 -0.010928  0.058562  1.000000   \n",
              "CALC                           -0.091386 -0.003463  0.086799  0.045864   \n",
              "MTRANS                          0.044028  0.043157  0.006394  0.176945   \n",
              "NObeyesdad                      0.133008 -0.194508 -0.199901 -0.107991   \n",
              "\n",
              "                                    CALC    MTRANS  NObeyesdad  \n",
              "Gender                          0.007616 -0.137537   -0.031464  \n",
              "Age                            -0.044487 -0.601945    0.282913  \n",
              "Height                         -0.129732 -0.073609    0.133565  \n",
              "Weight                         -0.206677  0.004610    0.913251  \n",
              "family_history_with_overweight  0.036676 -0.101540    0.505148  \n",
              "FAVC                           -0.089520 -0.069800    0.247793  \n",
              "FCVC                           -0.060781  0.064743    0.227759  \n",
              "NCP                            -0.071747 -0.053858    0.026690  \n",
              "CAEC                           -0.047540 -0.048535    0.329350  \n",
              "SMOKE                          -0.082471 -0.010702    0.003442  \n",
              "CH2O                           -0.091386  0.044028    0.133008  \n",
              "SCC                            -0.003463  0.043157   -0.194508  \n",
              "FAF                             0.086799  0.006394   -0.199901  \n",
              "TUE                             0.045864  0.176945   -0.107991  \n",
              "CALC                            1.000000 -0.012452   -0.151752  \n",
              "MTRANS                         -0.012452  1.000000    0.011818  \n",
              "NObeyesdad                     -0.151752  0.011818    1.000000  "
            ],
            "text/html": [
              "\n",
              "  <div id=\"df-434b9df1-6344-4fcf-b64b-e78deb0f933e\">\n",
              "    <div class=\"colab-df-container\">\n",
              "      <div>\n",
              "<style scoped>\n",
              "    .dataframe tbody tr th:only-of-type {\n",
              "        vertical-align: middle;\n",
              "    }\n",
              "\n",
              "    .dataframe tbody tr th {\n",
              "        vertical-align: top;\n",
              "    }\n",
              "\n",
              "    .dataframe thead th {\n",
              "        text-align: right;\n",
              "    }\n",
              "</style>\n",
              "<table border=\"1\" class=\"dataframe\">\n",
              "  <thead>\n",
              "    <tr style=\"text-align: right;\">\n",
              "      <th></th>\n",
              "      <th>Gender</th>\n",
              "      <th>Age</th>\n",
              "      <th>Height</th>\n",
              "      <th>Weight</th>\n",
              "      <th>family_history_with_overweight</th>\n",
              "      <th>FAVC</th>\n",
              "      <th>FCVC</th>\n",
              "      <th>NCP</th>\n",
              "      <th>CAEC</th>\n",
              "      <th>SMOKE</th>\n",
              "      <th>CH2O</th>\n",
              "      <th>SCC</th>\n",
              "      <th>FAF</th>\n",
              "      <th>TUE</th>\n",
              "      <th>CALC</th>\n",
              "      <th>MTRANS</th>\n",
              "      <th>NObeyesdad</th>\n",
              "    </tr>\n",
              "  </thead>\n",
              "  <tbody>\n",
              "    <tr>\n",
              "      <th>Gender</th>\n",
              "      <td>1.000000</td>\n",
              "      <td>0.048394</td>\n",
              "      <td>0.618466</td>\n",
              "      <td>0.161668</td>\n",
              "      <td>0.102512</td>\n",
              "      <td>0.064934</td>\n",
              "      <td>-0.274505</td>\n",
              "      <td>0.067600</td>\n",
              "      <td>0.091543</td>\n",
              "      <td>0.044698</td>\n",
              "      <td>0.107930</td>\n",
              "      <td>-0.102633</td>\n",
              "      <td>0.189607</td>\n",
              "      <td>0.017269</td>\n",
              "      <td>0.007616</td>\n",
              "      <td>-0.137537</td>\n",
              "      <td>-0.031464</td>\n",
              "    </tr>\n",
              "    <tr>\n",
              "      <th>Age</th>\n",
              "      <td>0.048394</td>\n",
              "      <td>1.000000</td>\n",
              "      <td>-0.025958</td>\n",
              "      <td>0.202560</td>\n",
              "      <td>0.205725</td>\n",
              "      <td>0.063902</td>\n",
              "      <td>0.016291</td>\n",
              "      <td>-0.043944</td>\n",
              "      <td>0.083739</td>\n",
              "      <td>0.091987</td>\n",
              "      <td>-0.045304</td>\n",
              "      <td>-0.116283</td>\n",
              "      <td>-0.144938</td>\n",
              "      <td>-0.296931</td>\n",
              "      <td>-0.044487</td>\n",
              "      <td>-0.601945</td>\n",
              "      <td>0.282913</td>\n",
              "    </tr>\n",
              "    <tr>\n",
              "      <th>Height</th>\n",
              "      <td>0.618466</td>\n",
              "      <td>-0.025958</td>\n",
              "      <td>1.000000</td>\n",
              "      <td>0.463136</td>\n",
              "      <td>0.247684</td>\n",
              "      <td>0.178364</td>\n",
              "      <td>-0.038121</td>\n",
              "      <td>0.243672</td>\n",
              "      <td>0.048818</td>\n",
              "      <td>0.055499</td>\n",
              "      <td>0.213376</td>\n",
              "      <td>-0.133753</td>\n",
              "      <td>0.294709</td>\n",
              "      <td>0.051912</td>\n",
              "      <td>-0.129732</td>\n",
              "      <td>-0.073609</td>\n",
              "      <td>0.133565</td>\n",
              "    </tr>\n",
              "    <tr>\n",
              "      <th>Weight</th>\n",
              "      <td>0.161668</td>\n",
              "      <td>0.202560</td>\n",
              "      <td>0.463136</td>\n",
              "      <td>1.000000</td>\n",
              "      <td>0.496820</td>\n",
              "      <td>0.272300</td>\n",
              "      <td>0.216125</td>\n",
              "      <td>0.107469</td>\n",
              "      <td>0.287493</td>\n",
              "      <td>0.025746</td>\n",
              "      <td>0.200575</td>\n",
              "      <td>-0.201906</td>\n",
              "      <td>-0.051436</td>\n",
              "      <td>-0.071561</td>\n",
              "      <td>-0.206677</td>\n",
              "      <td>0.004610</td>\n",
              "      <td>0.913251</td>\n",
              "    </tr>\n",
              "    <tr>\n",
              "      <th>family_history_with_overweight</th>\n",
              "      <td>0.102512</td>\n",
              "      <td>0.205725</td>\n",
              "      <td>0.247684</td>\n",
              "      <td>0.496820</td>\n",
              "      <td>1.000000</td>\n",
              "      <td>0.208036</td>\n",
              "      <td>0.040372</td>\n",
              "      <td>0.071370</td>\n",
              "      <td>0.169787</td>\n",
              "      <td>0.017385</td>\n",
              "      <td>0.147437</td>\n",
              "      <td>-0.185422</td>\n",
              "      <td>-0.056673</td>\n",
              "      <td>0.022943</td>\n",
              "      <td>0.036676</td>\n",
              "      <td>-0.101540</td>\n",
              "      <td>0.505148</td>\n",
              "    </tr>\n",
              "    <tr>\n",
              "      <th>FAVC</th>\n",
              "      <td>0.064934</td>\n",
              "      <td>0.063902</td>\n",
              "      <td>0.178364</td>\n",
              "      <td>0.272300</td>\n",
              "      <td>0.208036</td>\n",
              "      <td>1.000000</td>\n",
              "      <td>-0.027283</td>\n",
              "      <td>-0.007000</td>\n",
              "      <td>0.150068</td>\n",
              "      <td>-0.050660</td>\n",
              "      <td>0.009719</td>\n",
              "      <td>-0.190658</td>\n",
              "      <td>-0.107995</td>\n",
              "      <td>0.068417</td>\n",
              "      <td>-0.089520</td>\n",
              "      <td>-0.069800</td>\n",
              "      <td>0.247793</td>\n",
              "    </tr>\n",
              "    <tr>\n",
              "      <th>FCVC</th>\n",
              "      <td>-0.274505</td>\n",
              "      <td>0.016291</td>\n",
              "      <td>-0.038121</td>\n",
              "      <td>0.216125</td>\n",
              "      <td>0.040372</td>\n",
              "      <td>-0.027283</td>\n",
              "      <td>1.000000</td>\n",
              "      <td>0.042216</td>\n",
              "      <td>-0.054670</td>\n",
              "      <td>0.014320</td>\n",
              "      <td>0.068461</td>\n",
              "      <td>0.071852</td>\n",
              "      <td>0.019939</td>\n",
              "      <td>-0.101135</td>\n",
              "      <td>-0.060781</td>\n",
              "      <td>0.064743</td>\n",
              "      <td>0.227759</td>\n",
              "    </tr>\n",
              "    <tr>\n",
              "      <th>NCP</th>\n",
              "      <td>0.067600</td>\n",
              "      <td>-0.043944</td>\n",
              "      <td>0.243672</td>\n",
              "      <td>0.107469</td>\n",
              "      <td>0.071370</td>\n",
              "      <td>-0.007000</td>\n",
              "      <td>0.042216</td>\n",
              "      <td>1.000000</td>\n",
              "      <td>-0.097801</td>\n",
              "      <td>0.007811</td>\n",
              "      <td>0.057088</td>\n",
              "      <td>-0.015624</td>\n",
              "      <td>0.129504</td>\n",
              "      <td>0.036326</td>\n",
              "      <td>-0.071747</td>\n",
              "      <td>-0.053858</td>\n",
              "      <td>0.026690</td>\n",
              "    </tr>\n",
              "    <tr>\n",
              "      <th>CAEC</th>\n",
              "      <td>0.091543</td>\n",
              "      <td>0.083739</td>\n",
              "      <td>0.048818</td>\n",
              "      <td>0.287493</td>\n",
              "      <td>0.169787</td>\n",
              "      <td>0.150068</td>\n",
              "      <td>-0.054670</td>\n",
              "      <td>-0.097801</td>\n",
              "      <td>1.000000</td>\n",
              "      <td>-0.055282</td>\n",
              "      <td>0.144995</td>\n",
              "      <td>-0.109179</td>\n",
              "      <td>-0.030110</td>\n",
              "      <td>-0.048567</td>\n",
              "      <td>-0.047540</td>\n",
              "      <td>-0.048535</td>\n",
              "      <td>0.329350</td>\n",
              "    </tr>\n",
              "    <tr>\n",
              "      <th>SMOKE</th>\n",
              "      <td>0.044698</td>\n",
              "      <td>0.091987</td>\n",
              "      <td>0.055499</td>\n",
              "      <td>0.025746</td>\n",
              "      <td>0.017385</td>\n",
              "      <td>-0.050660</td>\n",
              "      <td>0.014320</td>\n",
              "      <td>0.007811</td>\n",
              "      <td>-0.055282</td>\n",
              "      <td>1.000000</td>\n",
              "      <td>-0.031995</td>\n",
              "      <td>0.047731</td>\n",
              "      <td>0.011216</td>\n",
              "      <td>0.017613</td>\n",
              "      <td>-0.082471</td>\n",
              "      <td>-0.010702</td>\n",
              "      <td>0.003442</td>\n",
              "    </tr>\n",
              "    <tr>\n",
              "      <th>CH2O</th>\n",
              "      <td>0.107930</td>\n",
              "      <td>-0.045304</td>\n",
              "      <td>0.213376</td>\n",
              "      <td>0.200575</td>\n",
              "      <td>0.147437</td>\n",
              "      <td>0.009719</td>\n",
              "      <td>0.068461</td>\n",
              "      <td>0.057088</td>\n",
              "      <td>0.144995</td>\n",
              "      <td>-0.031995</td>\n",
              "      <td>1.000000</td>\n",
              "      <td>0.008036</td>\n",
              "      <td>0.167236</td>\n",
              "      <td>0.011965</td>\n",
              "      <td>-0.091386</td>\n",
              "      <td>0.044028</td>\n",
              "      <td>0.133008</td>\n",
              "    </tr>\n",
              "    <tr>\n",
              "      <th>SCC</th>\n",
              "      <td>-0.102633</td>\n",
              "      <td>-0.116283</td>\n",
              "      <td>-0.133753</td>\n",
              "      <td>-0.201906</td>\n",
              "      <td>-0.185422</td>\n",
              "      <td>-0.190658</td>\n",
              "      <td>0.071852</td>\n",
              "      <td>-0.015624</td>\n",
              "      <td>-0.109179</td>\n",
              "      <td>0.047731</td>\n",
              "      <td>0.008036</td>\n",
              "      <td>1.000000</td>\n",
              "      <td>0.074221</td>\n",
              "      <td>-0.010928</td>\n",
              "      <td>-0.003463</td>\n",
              "      <td>0.043157</td>\n",
              "      <td>-0.194508</td>\n",
              "    </tr>\n",
              "    <tr>\n",
              "      <th>FAF</th>\n",
              "      <td>0.189607</td>\n",
              "      <td>-0.144938</td>\n",
              "      <td>0.294709</td>\n",
              "      <td>-0.051436</td>\n",
              "      <td>-0.056673</td>\n",
              "      <td>-0.107995</td>\n",
              "      <td>0.019939</td>\n",
              "      <td>0.129504</td>\n",
              "      <td>-0.030110</td>\n",
              "      <td>0.011216</td>\n",
              "      <td>0.167236</td>\n",
              "      <td>0.074221</td>\n",
              "      <td>1.000000</td>\n",
              "      <td>0.058562</td>\n",
              "      <td>0.086799</td>\n",
              "      <td>0.006394</td>\n",
              "      <td>-0.199901</td>\n",
              "    </tr>\n",
              "    <tr>\n",
              "      <th>TUE</th>\n",
              "      <td>0.017269</td>\n",
              "      <td>-0.296931</td>\n",
              "      <td>0.051912</td>\n",
              "      <td>-0.071561</td>\n",
              "      <td>0.022943</td>\n",
              "      <td>0.068417</td>\n",
              "      <td>-0.101135</td>\n",
              "      <td>0.036326</td>\n",
              "      <td>-0.048567</td>\n",
              "      <td>0.017613</td>\n",
              "      <td>0.011965</td>\n",
              "      <td>-0.010928</td>\n",
              "      <td>0.058562</td>\n",
              "      <td>1.000000</td>\n",
              "      <td>0.045864</td>\n",
              "      <td>0.176945</td>\n",
              "      <td>-0.107991</td>\n",
              "    </tr>\n",
              "    <tr>\n",
              "      <th>CALC</th>\n",
              "      <td>0.007616</td>\n",
              "      <td>-0.044487</td>\n",
              "      <td>-0.129732</td>\n",
              "      <td>-0.206677</td>\n",
              "      <td>0.036676</td>\n",
              "      <td>-0.089520</td>\n",
              "      <td>-0.060781</td>\n",
              "      <td>-0.071747</td>\n",
              "      <td>-0.047540</td>\n",
              "      <td>-0.082471</td>\n",
              "      <td>-0.091386</td>\n",
              "      <td>-0.003463</td>\n",
              "      <td>0.086799</td>\n",
              "      <td>0.045864</td>\n",
              "      <td>1.000000</td>\n",
              "      <td>-0.012452</td>\n",
              "      <td>-0.151752</td>\n",
              "    </tr>\n",
              "    <tr>\n",
              "      <th>MTRANS</th>\n",
              "      <td>-0.137537</td>\n",
              "      <td>-0.601945</td>\n",
              "      <td>-0.073609</td>\n",
              "      <td>0.004610</td>\n",
              "      <td>-0.101540</td>\n",
              "      <td>-0.069800</td>\n",
              "      <td>0.064743</td>\n",
              "      <td>-0.053858</td>\n",
              "      <td>-0.048535</td>\n",
              "      <td>-0.010702</td>\n",
              "      <td>0.044028</td>\n",
              "      <td>0.043157</td>\n",
              "      <td>0.006394</td>\n",
              "      <td>0.176945</td>\n",
              "      <td>-0.012452</td>\n",
              "      <td>1.000000</td>\n",
              "      <td>0.011818</td>\n",
              "    </tr>\n",
              "    <tr>\n",
              "      <th>NObeyesdad</th>\n",
              "      <td>-0.031464</td>\n",
              "      <td>0.282913</td>\n",
              "      <td>0.133565</td>\n",
              "      <td>0.913251</td>\n",
              "      <td>0.505148</td>\n",
              "      <td>0.247793</td>\n",
              "      <td>0.227759</td>\n",
              "      <td>0.026690</td>\n",
              "      <td>0.329350</td>\n",
              "      <td>0.003442</td>\n",
              "      <td>0.133008</td>\n",
              "      <td>-0.194508</td>\n",
              "      <td>-0.199901</td>\n",
              "      <td>-0.107991</td>\n",
              "      <td>-0.151752</td>\n",
              "      <td>0.011818</td>\n",
              "      <td>1.000000</td>\n",
              "    </tr>\n",
              "  </tbody>\n",
              "</table>\n",
              "</div>\n",
              "      <button class=\"colab-df-convert\" onclick=\"convertToInteractive('df-434b9df1-6344-4fcf-b64b-e78deb0f933e')\"\n",
              "              title=\"Convert this dataframe to an interactive table.\"\n",
              "              style=\"display:none;\">\n",
              "        \n",
              "  <svg xmlns=\"http://www.w3.org/2000/svg\" height=\"24px\"viewBox=\"0 0 24 24\"\n",
              "       width=\"24px\">\n",
              "    <path d=\"M0 0h24v24H0V0z\" fill=\"none\"/>\n",
              "    <path d=\"M18.56 5.44l.94 2.06.94-2.06 2.06-.94-2.06-.94-.94-2.06-.94 2.06-2.06.94zm-11 1L8.5 8.5l.94-2.06 2.06-.94-2.06-.94L8.5 2.5l-.94 2.06-2.06.94zm10 10l.94 2.06.94-2.06 2.06-.94-2.06-.94-.94-2.06-.94 2.06-2.06.94z\"/><path d=\"M17.41 7.96l-1.37-1.37c-.4-.4-.92-.59-1.43-.59-.52 0-1.04.2-1.43.59L10.3 9.45l-7.72 7.72c-.78.78-.78 2.05 0 2.83L4 21.41c.39.39.9.59 1.41.59.51 0 1.02-.2 1.41-.59l7.78-7.78 2.81-2.81c.8-.78.8-2.07 0-2.86zM5.41 20L4 18.59l7.72-7.72 1.47 1.35L5.41 20z\"/>\n",
              "  </svg>\n",
              "      </button>\n",
              "      \n",
              "  <style>\n",
              "    .colab-df-container {\n",
              "      display:flex;\n",
              "      flex-wrap:wrap;\n",
              "      gap: 12px;\n",
              "    }\n",
              "\n",
              "    .colab-df-convert {\n",
              "      background-color: #E8F0FE;\n",
              "      border: none;\n",
              "      border-radius: 50%;\n",
              "      cursor: pointer;\n",
              "      display: none;\n",
              "      fill: #1967D2;\n",
              "      height: 32px;\n",
              "      padding: 0 0 0 0;\n",
              "      width: 32px;\n",
              "    }\n",
              "\n",
              "    .colab-df-convert:hover {\n",
              "      background-color: #E2EBFA;\n",
              "      box-shadow: 0px 1px 2px rgba(60, 64, 67, 0.3), 0px 1px 3px 1px rgba(60, 64, 67, 0.15);\n",
              "      fill: #174EA6;\n",
              "    }\n",
              "\n",
              "    [theme=dark] .colab-df-convert {\n",
              "      background-color: #3B4455;\n",
              "      fill: #D2E3FC;\n",
              "    }\n",
              "\n",
              "    [theme=dark] .colab-df-convert:hover {\n",
              "      background-color: #434B5C;\n",
              "      box-shadow: 0px 1px 3px 1px rgba(0, 0, 0, 0.15);\n",
              "      filter: drop-shadow(0px 1px 2px rgba(0, 0, 0, 0.3));\n",
              "      fill: #FFFFFF;\n",
              "    }\n",
              "  </style>\n",
              "\n",
              "      <script>\n",
              "        const buttonEl =\n",
              "          document.querySelector('#df-434b9df1-6344-4fcf-b64b-e78deb0f933e button.colab-df-convert');\n",
              "        buttonEl.style.display =\n",
              "          google.colab.kernel.accessAllowed ? 'block' : 'none';\n",
              "\n",
              "        async function convertToInteractive(key) {\n",
              "          const element = document.querySelector('#df-434b9df1-6344-4fcf-b64b-e78deb0f933e');\n",
              "          const dataTable =\n",
              "            await google.colab.kernel.invokeFunction('convertToInteractive',\n",
              "                                                     [key], {});\n",
              "          if (!dataTable) return;\n",
              "\n",
              "          const docLinkHtml = 'Like what you see? Visit the ' +\n",
              "            '<a target=\"_blank\" href=https://colab.research.google.com/notebooks/data_table.ipynb>data table notebook</a>'\n",
              "            + ' to learn more about interactive tables.';\n",
              "          element.innerHTML = '';\n",
              "          dataTable['output_type'] = 'display_data';\n",
              "          await google.colab.output.renderOutput(dataTable, element);\n",
              "          const docLink = document.createElement('div');\n",
              "          docLink.innerHTML = docLinkHtml;\n",
              "          element.appendChild(docLink);\n",
              "        }\n",
              "      </script>\n",
              "    </div>\n",
              "  </div>\n",
              "  "
            ]
          },
          "metadata": {},
          "execution_count": 63
        }
      ]
    },
    {
      "cell_type": "code",
      "source": [
        "X = df.drop(columns = 'NObeyesdad')"
      ],
      "metadata": {
        "id": "Bs41PK5UkUo1"
      },
      "execution_count": 64,
      "outputs": []
    },
    {
      "cell_type": "code",
      "source": [
        "y = df['NObeyesdad']"
      ],
      "metadata": {
        "id": "KdARmJNmkkc6"
      },
      "execution_count": 65,
      "outputs": []
    },
    {
      "cell_type": "code",
      "source": [
        "from sklearn.preprocessing import MinMaxScaler\n",
        "features = MinMaxScaler().fit_transform(X)"
      ],
      "metadata": {
        "id": "9eqc_qIAixoU"
      },
      "execution_count": 66,
      "outputs": []
    },
    {
      "cell_type": "code",
      "source": [
        "from sklearn.model_selection import train_test_split\n",
        "X_train, X_test, y_train, y_test = train_test_split(X, y, train_size=0.8, random_state=144)"
      ],
      "metadata": {
        "id": "L_65cGaVkwN_"
      },
      "execution_count": 67,
      "outputs": []
    },
    {
      "cell_type": "code",
      "source": [
        "import xgboost as xgb"
      ],
      "metadata": {
        "id": "pIXCvrMomYDU"
      },
      "execution_count": 68,
      "outputs": []
    },
    {
      "cell_type": "code",
      "source": [
        "from sklearn.ensemble import RandomForestClassifier\n",
        "from sklearn.ensemble import GradientBoostingClassifier\n",
        "from sklearn.naive_bayes import GaussianNB\n",
        "from xgboost import XGBClassifier\n",
        "from sklearn.metrics  import classification_report,confusion_matrix"
      ],
      "metadata": {
        "id": "j8Zn6gkVlPEU"
      },
      "execution_count": 77,
      "outputs": []
    },
    {
      "cell_type": "code",
      "source": [
        "model_rdf = RandomForestClassifier()"
      ],
      "metadata": {
        "id": "2MWl0UGPm2ZV"
      },
      "execution_count": 70,
      "outputs": []
    },
    {
      "cell_type": "code",
      "source": [
        "model_rdf.fit(X_train,y_train)"
      ],
      "metadata": {
        "colab": {
          "base_uri": "https://localhost:8080/",
          "height": 75
        },
        "id": "Grl2U9PDm8DB",
        "outputId": "d4cdb11b-eb34-42c6-f2af-6719a706e916"
      },
      "execution_count": 71,
      "outputs": [
        {
          "output_type": "execute_result",
          "data": {
            "text/plain": [
              "RandomForestClassifier()"
            ],
            "text/html": [
              "<style>#sk-container-id-1 {color: black;background-color: white;}#sk-container-id-1 pre{padding: 0;}#sk-container-id-1 div.sk-toggleable {background-color: white;}#sk-container-id-1 label.sk-toggleable__label {cursor: pointer;display: block;width: 100%;margin-bottom: 0;padding: 0.3em;box-sizing: border-box;text-align: center;}#sk-container-id-1 label.sk-toggleable__label-arrow:before {content: \"▸\";float: left;margin-right: 0.25em;color: #696969;}#sk-container-id-1 label.sk-toggleable__label-arrow:hover:before {color: black;}#sk-container-id-1 div.sk-estimator:hover label.sk-toggleable__label-arrow:before {color: black;}#sk-container-id-1 div.sk-toggleable__content {max-height: 0;max-width: 0;overflow: hidden;text-align: left;background-color: #f0f8ff;}#sk-container-id-1 div.sk-toggleable__content pre {margin: 0.2em;color: black;border-radius: 0.25em;background-color: #f0f8ff;}#sk-container-id-1 input.sk-toggleable__control:checked~div.sk-toggleable__content {max-height: 200px;max-width: 100%;overflow: auto;}#sk-container-id-1 input.sk-toggleable__control:checked~label.sk-toggleable__label-arrow:before {content: \"▾\";}#sk-container-id-1 div.sk-estimator input.sk-toggleable__control:checked~label.sk-toggleable__label {background-color: #d4ebff;}#sk-container-id-1 div.sk-label input.sk-toggleable__control:checked~label.sk-toggleable__label {background-color: #d4ebff;}#sk-container-id-1 input.sk-hidden--visually {border: 0;clip: rect(1px 1px 1px 1px);clip: rect(1px, 1px, 1px, 1px);height: 1px;margin: -1px;overflow: hidden;padding: 0;position: absolute;width: 1px;}#sk-container-id-1 div.sk-estimator {font-family: monospace;background-color: #f0f8ff;border: 1px dotted black;border-radius: 0.25em;box-sizing: border-box;margin-bottom: 0.5em;}#sk-container-id-1 div.sk-estimator:hover {background-color: #d4ebff;}#sk-container-id-1 div.sk-parallel-item::after {content: \"\";width: 100%;border-bottom: 1px solid gray;flex-grow: 1;}#sk-container-id-1 div.sk-label:hover label.sk-toggleable__label {background-color: #d4ebff;}#sk-container-id-1 div.sk-serial::before {content: \"\";position: absolute;border-left: 1px solid gray;box-sizing: border-box;top: 0;bottom: 0;left: 50%;z-index: 0;}#sk-container-id-1 div.sk-serial {display: flex;flex-direction: column;align-items: center;background-color: white;padding-right: 0.2em;padding-left: 0.2em;position: relative;}#sk-container-id-1 div.sk-item {position: relative;z-index: 1;}#sk-container-id-1 div.sk-parallel {display: flex;align-items: stretch;justify-content: center;background-color: white;position: relative;}#sk-container-id-1 div.sk-item::before, #sk-container-id-1 div.sk-parallel-item::before {content: \"\";position: absolute;border-left: 1px solid gray;box-sizing: border-box;top: 0;bottom: 0;left: 50%;z-index: -1;}#sk-container-id-1 div.sk-parallel-item {display: flex;flex-direction: column;z-index: 1;position: relative;background-color: white;}#sk-container-id-1 div.sk-parallel-item:first-child::after {align-self: flex-end;width: 50%;}#sk-container-id-1 div.sk-parallel-item:last-child::after {align-self: flex-start;width: 50%;}#sk-container-id-1 div.sk-parallel-item:only-child::after {width: 0;}#sk-container-id-1 div.sk-dashed-wrapped {border: 1px dashed gray;margin: 0 0.4em 0.5em 0.4em;box-sizing: border-box;padding-bottom: 0.4em;background-color: white;}#sk-container-id-1 div.sk-label label {font-family: monospace;font-weight: bold;display: inline-block;line-height: 1.2em;}#sk-container-id-1 div.sk-label-container {text-align: center;}#sk-container-id-1 div.sk-container {/* jupyter's `normalize.less` sets `[hidden] { display: none; }` but bootstrap.min.css set `[hidden] { display: none !important; }` so we also need the `!important` here to be able to override the default hidden behavior on the sphinx rendered scikit-learn.org. See: https://github.com/scikit-learn/scikit-learn/issues/21755 */display: inline-block !important;position: relative;}#sk-container-id-1 div.sk-text-repr-fallback {display: none;}</style><div id=\"sk-container-id-1\" class=\"sk-top-container\"><div class=\"sk-text-repr-fallback\"><pre>RandomForestClassifier()</pre><b>In a Jupyter environment, please rerun this cell to show the HTML representation or trust the notebook. <br />On GitHub, the HTML representation is unable to render, please try loading this page with nbviewer.org.</b></div><div class=\"sk-container\" hidden><div class=\"sk-item\"><div class=\"sk-estimator sk-toggleable\"><input class=\"sk-toggleable__control sk-hidden--visually\" id=\"sk-estimator-id-1\" type=\"checkbox\" checked><label for=\"sk-estimator-id-1\" class=\"sk-toggleable__label sk-toggleable__label-arrow\">RandomForestClassifier</label><div class=\"sk-toggleable__content\"><pre>RandomForestClassifier()</pre></div></div></div></div></div>"
            ]
          },
          "metadata": {},
          "execution_count": 71
        }
      ]
    },
    {
      "cell_type": "code",
      "source": [
        "y_pred_rdf = model_rdf.predict(X_test)"
      ],
      "metadata": {
        "id": "cjYXCL9lnB4e"
      },
      "execution_count": 80,
      "outputs": []
    },
    {
      "cell_type": "code",
      "source": [
        "confusion_matrix(y_test,y_pred_rdf)"
      ],
      "metadata": {
        "colab": {
          "base_uri": "https://localhost:8080/"
        },
        "id": "2Nch8UZOnQGi",
        "outputId": "1c97fc48-4eef-4852-8f83-67aa2164417f"
      },
      "execution_count": 81,
      "outputs": [
        {
          "output_type": "execute_result",
          "data": {
            "text/plain": [
              "array([[50,  1,  0,  0,  0,  0,  0],\n",
              "       [ 0, 49,  3,  0,  0,  0,  0],\n",
              "       [ 0,  6, 56,  1,  0,  0,  0],\n",
              "       [ 0,  1,  0, 62,  0,  0,  0],\n",
              "       [ 0,  0,  0,  2, 65,  0,  0],\n",
              "       [ 0,  0,  0,  0,  0, 61,  0],\n",
              "       [ 0,  0,  0,  0,  1,  0, 65]])"
            ]
          },
          "metadata": {},
          "execution_count": 81
        }
      ]
    },
    {
      "cell_type": "code",
      "source": [
        "print('Classification Report of Random Forest Classifier : \\n',classification_report(y_test,y_pred_rdf, digits=4))"
      ],
      "metadata": {
        "colab": {
          "base_uri": "https://localhost:8080/"
        },
        "id": "uFQzvwGPnW3W",
        "outputId": "28640c3d-a527-4a1c-ac54-ea0269b0591f"
      },
      "execution_count": 82,
      "outputs": [
        {
          "output_type": "stream",
          "name": "stdout",
          "text": [
            "Classification Report of Random Forest Classifier : \n",
            "               precision    recall  f1-score   support\n",
            "\n",
            "           0     1.0000    0.9804    0.9901        51\n",
            "           1     0.8596    0.9423    0.8991        52\n",
            "           2     0.9492    0.8889    0.9180        63\n",
            "           3     0.9538    0.9841    0.9688        63\n",
            "           4     0.9848    0.9701    0.9774        67\n",
            "           5     1.0000    1.0000    1.0000        61\n",
            "           6     1.0000    0.9848    0.9924        66\n",
            "\n",
            "    accuracy                         0.9645       423\n",
            "   macro avg     0.9639    0.9644    0.9637       423\n",
            "weighted avg     0.9659    0.9645    0.9648       423\n",
            "\n"
          ]
        }
      ]
    },
    {
      "cell_type": "code",
      "source": [
        "model_gbc = GradientBoostingClassifier()"
      ],
      "metadata": {
        "id": "iZDafT5FoIT1"
      },
      "execution_count": 83,
      "outputs": []
    },
    {
      "cell_type": "code",
      "source": [
        "model_gbc.fit(X_train,y_train)"
      ],
      "metadata": {
        "colab": {
          "base_uri": "https://localhost:8080/",
          "height": 75
        },
        "id": "cv-gZU7fpCwe",
        "outputId": "97291e9f-5893-4f82-ff06-80ec7529962e"
      },
      "execution_count": 84,
      "outputs": [
        {
          "output_type": "execute_result",
          "data": {
            "text/plain": [
              "GradientBoostingClassifier()"
            ],
            "text/html": [
              "<style>#sk-container-id-2 {color: black;background-color: white;}#sk-container-id-2 pre{padding: 0;}#sk-container-id-2 div.sk-toggleable {background-color: white;}#sk-container-id-2 label.sk-toggleable__label {cursor: pointer;display: block;width: 100%;margin-bottom: 0;padding: 0.3em;box-sizing: border-box;text-align: center;}#sk-container-id-2 label.sk-toggleable__label-arrow:before {content: \"▸\";float: left;margin-right: 0.25em;color: #696969;}#sk-container-id-2 label.sk-toggleable__label-arrow:hover:before {color: black;}#sk-container-id-2 div.sk-estimator:hover label.sk-toggleable__label-arrow:before {color: black;}#sk-container-id-2 div.sk-toggleable__content {max-height: 0;max-width: 0;overflow: hidden;text-align: left;background-color: #f0f8ff;}#sk-container-id-2 div.sk-toggleable__content pre {margin: 0.2em;color: black;border-radius: 0.25em;background-color: #f0f8ff;}#sk-container-id-2 input.sk-toggleable__control:checked~div.sk-toggleable__content {max-height: 200px;max-width: 100%;overflow: auto;}#sk-container-id-2 input.sk-toggleable__control:checked~label.sk-toggleable__label-arrow:before {content: \"▾\";}#sk-container-id-2 div.sk-estimator input.sk-toggleable__control:checked~label.sk-toggleable__label {background-color: #d4ebff;}#sk-container-id-2 div.sk-label input.sk-toggleable__control:checked~label.sk-toggleable__label {background-color: #d4ebff;}#sk-container-id-2 input.sk-hidden--visually {border: 0;clip: rect(1px 1px 1px 1px);clip: rect(1px, 1px, 1px, 1px);height: 1px;margin: -1px;overflow: hidden;padding: 0;position: absolute;width: 1px;}#sk-container-id-2 div.sk-estimator {font-family: monospace;background-color: #f0f8ff;border: 1px dotted black;border-radius: 0.25em;box-sizing: border-box;margin-bottom: 0.5em;}#sk-container-id-2 div.sk-estimator:hover {background-color: #d4ebff;}#sk-container-id-2 div.sk-parallel-item::after {content: \"\";width: 100%;border-bottom: 1px solid gray;flex-grow: 1;}#sk-container-id-2 div.sk-label:hover label.sk-toggleable__label {background-color: #d4ebff;}#sk-container-id-2 div.sk-serial::before {content: \"\";position: absolute;border-left: 1px solid gray;box-sizing: border-box;top: 0;bottom: 0;left: 50%;z-index: 0;}#sk-container-id-2 div.sk-serial {display: flex;flex-direction: column;align-items: center;background-color: white;padding-right: 0.2em;padding-left: 0.2em;position: relative;}#sk-container-id-2 div.sk-item {position: relative;z-index: 1;}#sk-container-id-2 div.sk-parallel {display: flex;align-items: stretch;justify-content: center;background-color: white;position: relative;}#sk-container-id-2 div.sk-item::before, #sk-container-id-2 div.sk-parallel-item::before {content: \"\";position: absolute;border-left: 1px solid gray;box-sizing: border-box;top: 0;bottom: 0;left: 50%;z-index: -1;}#sk-container-id-2 div.sk-parallel-item {display: flex;flex-direction: column;z-index: 1;position: relative;background-color: white;}#sk-container-id-2 div.sk-parallel-item:first-child::after {align-self: flex-end;width: 50%;}#sk-container-id-2 div.sk-parallel-item:last-child::after {align-self: flex-start;width: 50%;}#sk-container-id-2 div.sk-parallel-item:only-child::after {width: 0;}#sk-container-id-2 div.sk-dashed-wrapped {border: 1px dashed gray;margin: 0 0.4em 0.5em 0.4em;box-sizing: border-box;padding-bottom: 0.4em;background-color: white;}#sk-container-id-2 div.sk-label label {font-family: monospace;font-weight: bold;display: inline-block;line-height: 1.2em;}#sk-container-id-2 div.sk-label-container {text-align: center;}#sk-container-id-2 div.sk-container {/* jupyter's `normalize.less` sets `[hidden] { display: none; }` but bootstrap.min.css set `[hidden] { display: none !important; }` so we also need the `!important` here to be able to override the default hidden behavior on the sphinx rendered scikit-learn.org. See: https://github.com/scikit-learn/scikit-learn/issues/21755 */display: inline-block !important;position: relative;}#sk-container-id-2 div.sk-text-repr-fallback {display: none;}</style><div id=\"sk-container-id-2\" class=\"sk-top-container\"><div class=\"sk-text-repr-fallback\"><pre>GradientBoostingClassifier()</pre><b>In a Jupyter environment, please rerun this cell to show the HTML representation or trust the notebook. <br />On GitHub, the HTML representation is unable to render, please try loading this page with nbviewer.org.</b></div><div class=\"sk-container\" hidden><div class=\"sk-item\"><div class=\"sk-estimator sk-toggleable\"><input class=\"sk-toggleable__control sk-hidden--visually\" id=\"sk-estimator-id-2\" type=\"checkbox\" checked><label for=\"sk-estimator-id-2\" class=\"sk-toggleable__label sk-toggleable__label-arrow\">GradientBoostingClassifier</label><div class=\"sk-toggleable__content\"><pre>GradientBoostingClassifier()</pre></div></div></div></div></div>"
            ]
          },
          "metadata": {},
          "execution_count": 84
        }
      ]
    },
    {
      "cell_type": "code",
      "source": [
        "y_pred_gbc = model_gbc.predict(X_test)"
      ],
      "metadata": {
        "id": "YMApF_RgpC0r"
      },
      "execution_count": 85,
      "outputs": []
    },
    {
      "cell_type": "code",
      "source": [
        "confusion_matrix(y_test,y_pred_gbc)"
      ],
      "metadata": {
        "colab": {
          "base_uri": "https://localhost:8080/"
        },
        "id": "X_g6YkJBpC3v",
        "outputId": "7cd80ada-d687-41e1-b7d8-f45cb508c952"
      },
      "execution_count": 86,
      "outputs": [
        {
          "output_type": "execute_result",
          "data": {
            "text/plain": [
              "array([[51,  0,  0,  0,  0,  0,  0],\n",
              "       [ 0, 49,  2,  1,  0,  0,  0],\n",
              "       [ 0,  5, 56,  2,  0,  0,  0],\n",
              "       [ 0,  0,  1, 62,  0,  0,  0],\n",
              "       [ 0,  0,  0,  0, 65,  2,  0],\n",
              "       [ 0,  0,  0,  0,  0, 61,  0],\n",
              "       [ 0,  0,  0,  0,  0,  1, 65]])"
            ]
          },
          "metadata": {},
          "execution_count": 86
        }
      ]
    },
    {
      "cell_type": "code",
      "source": [
        "print('Classification Report of Random Forest Classifier : \\n',classification_report(y_test,y_pred_gbc, digits=4))"
      ],
      "metadata": {
        "colab": {
          "base_uri": "https://localhost:8080/"
        },
        "id": "Ugma-gglpC63",
        "outputId": "c4e411dd-9bd6-4cfb-ace3-7ea354cbbb27"
      },
      "execution_count": 87,
      "outputs": [
        {
          "output_type": "stream",
          "name": "stdout",
          "text": [
            "Classification Report of Random Forest Classifier : \n",
            "               precision    recall  f1-score   support\n",
            "\n",
            "           0     1.0000    1.0000    1.0000        51\n",
            "           1     0.9074    0.9423    0.9245        52\n",
            "           2     0.9492    0.8889    0.9180        63\n",
            "           3     0.9538    0.9841    0.9688        63\n",
            "           4     1.0000    0.9701    0.9848        67\n",
            "           5     0.9531    1.0000    0.9760        61\n",
            "           6     1.0000    0.9848    0.9924        66\n",
            "\n",
            "    accuracy                         0.9669       423\n",
            "   macro avg     0.9662    0.9672    0.9664       423\n",
            "weighted avg     0.9674    0.9669    0.9668       423\n",
            "\n"
          ]
        }
      ]
    },
    {
      "cell_type": "code",
      "source": [
        "model_nb = GaussianNB()"
      ],
      "metadata": {
        "id": "EY_AbYLopC9m"
      },
      "execution_count": 88,
      "outputs": []
    },
    {
      "cell_type": "code",
      "source": [
        "model_nb.fit(X_train,y_train)"
      ],
      "metadata": {
        "colab": {
          "base_uri": "https://localhost:8080/",
          "height": 75
        },
        "id": "XxwVQiE4pDBK",
        "outputId": "c9fea6b8-30ea-4ad3-e86c-3670ff350c06"
      },
      "execution_count": 89,
      "outputs": [
        {
          "output_type": "execute_result",
          "data": {
            "text/plain": [
              "GaussianNB()"
            ],
            "text/html": [
              "<style>#sk-container-id-3 {color: black;background-color: white;}#sk-container-id-3 pre{padding: 0;}#sk-container-id-3 div.sk-toggleable {background-color: white;}#sk-container-id-3 label.sk-toggleable__label {cursor: pointer;display: block;width: 100%;margin-bottom: 0;padding: 0.3em;box-sizing: border-box;text-align: center;}#sk-container-id-3 label.sk-toggleable__label-arrow:before {content: \"▸\";float: left;margin-right: 0.25em;color: #696969;}#sk-container-id-3 label.sk-toggleable__label-arrow:hover:before {color: black;}#sk-container-id-3 div.sk-estimator:hover label.sk-toggleable__label-arrow:before {color: black;}#sk-container-id-3 div.sk-toggleable__content {max-height: 0;max-width: 0;overflow: hidden;text-align: left;background-color: #f0f8ff;}#sk-container-id-3 div.sk-toggleable__content pre {margin: 0.2em;color: black;border-radius: 0.25em;background-color: #f0f8ff;}#sk-container-id-3 input.sk-toggleable__control:checked~div.sk-toggleable__content {max-height: 200px;max-width: 100%;overflow: auto;}#sk-container-id-3 input.sk-toggleable__control:checked~label.sk-toggleable__label-arrow:before {content: \"▾\";}#sk-container-id-3 div.sk-estimator input.sk-toggleable__control:checked~label.sk-toggleable__label {background-color: #d4ebff;}#sk-container-id-3 div.sk-label input.sk-toggleable__control:checked~label.sk-toggleable__label {background-color: #d4ebff;}#sk-container-id-3 input.sk-hidden--visually {border: 0;clip: rect(1px 1px 1px 1px);clip: rect(1px, 1px, 1px, 1px);height: 1px;margin: -1px;overflow: hidden;padding: 0;position: absolute;width: 1px;}#sk-container-id-3 div.sk-estimator {font-family: monospace;background-color: #f0f8ff;border: 1px dotted black;border-radius: 0.25em;box-sizing: border-box;margin-bottom: 0.5em;}#sk-container-id-3 div.sk-estimator:hover {background-color: #d4ebff;}#sk-container-id-3 div.sk-parallel-item::after {content: \"\";width: 100%;border-bottom: 1px solid gray;flex-grow: 1;}#sk-container-id-3 div.sk-label:hover label.sk-toggleable__label {background-color: #d4ebff;}#sk-container-id-3 div.sk-serial::before {content: \"\";position: absolute;border-left: 1px solid gray;box-sizing: border-box;top: 0;bottom: 0;left: 50%;z-index: 0;}#sk-container-id-3 div.sk-serial {display: flex;flex-direction: column;align-items: center;background-color: white;padding-right: 0.2em;padding-left: 0.2em;position: relative;}#sk-container-id-3 div.sk-item {position: relative;z-index: 1;}#sk-container-id-3 div.sk-parallel {display: flex;align-items: stretch;justify-content: center;background-color: white;position: relative;}#sk-container-id-3 div.sk-item::before, #sk-container-id-3 div.sk-parallel-item::before {content: \"\";position: absolute;border-left: 1px solid gray;box-sizing: border-box;top: 0;bottom: 0;left: 50%;z-index: -1;}#sk-container-id-3 div.sk-parallel-item {display: flex;flex-direction: column;z-index: 1;position: relative;background-color: white;}#sk-container-id-3 div.sk-parallel-item:first-child::after {align-self: flex-end;width: 50%;}#sk-container-id-3 div.sk-parallel-item:last-child::after {align-self: flex-start;width: 50%;}#sk-container-id-3 div.sk-parallel-item:only-child::after {width: 0;}#sk-container-id-3 div.sk-dashed-wrapped {border: 1px dashed gray;margin: 0 0.4em 0.5em 0.4em;box-sizing: border-box;padding-bottom: 0.4em;background-color: white;}#sk-container-id-3 div.sk-label label {font-family: monospace;font-weight: bold;display: inline-block;line-height: 1.2em;}#sk-container-id-3 div.sk-label-container {text-align: center;}#sk-container-id-3 div.sk-container {/* jupyter's `normalize.less` sets `[hidden] { display: none; }` but bootstrap.min.css set `[hidden] { display: none !important; }` so we also need the `!important` here to be able to override the default hidden behavior on the sphinx rendered scikit-learn.org. See: https://github.com/scikit-learn/scikit-learn/issues/21755 */display: inline-block !important;position: relative;}#sk-container-id-3 div.sk-text-repr-fallback {display: none;}</style><div id=\"sk-container-id-3\" class=\"sk-top-container\"><div class=\"sk-text-repr-fallback\"><pre>GaussianNB()</pre><b>In a Jupyter environment, please rerun this cell to show the HTML representation or trust the notebook. <br />On GitHub, the HTML representation is unable to render, please try loading this page with nbviewer.org.</b></div><div class=\"sk-container\" hidden><div class=\"sk-item\"><div class=\"sk-estimator sk-toggleable\"><input class=\"sk-toggleable__control sk-hidden--visually\" id=\"sk-estimator-id-3\" type=\"checkbox\" checked><label for=\"sk-estimator-id-3\" class=\"sk-toggleable__label sk-toggleable__label-arrow\">GaussianNB</label><div class=\"sk-toggleable__content\"><pre>GaussianNB()</pre></div></div></div></div></div>"
            ]
          },
          "metadata": {},
          "execution_count": 89
        }
      ]
    },
    {
      "cell_type": "code",
      "source": [
        "y_pred_nb = model_nb.predict(X_test)"
      ],
      "metadata": {
        "id": "qE3_JpZ7pDEV"
      },
      "execution_count": 90,
      "outputs": []
    },
    {
      "cell_type": "code",
      "source": [
        "confusion_matrix(y_test,y_pred_nb)"
      ],
      "metadata": {
        "colab": {
          "base_uri": "https://localhost:8080/"
        },
        "id": "CBqtitm_pDH0",
        "outputId": "b18fb45c-d4f3-4763-f70c-4f500a71fa2b"
      },
      "execution_count": 91,
      "outputs": [
        {
          "output_type": "execute_result",
          "data": {
            "text/plain": [
              "array([[46,  0,  2,  0,  3,  0,  0],\n",
              "       [13, 15, 13,  3,  8,  0,  0],\n",
              "       [ 0,  2, 21,  1, 38,  1,  0],\n",
              "       [ 0,  6,  1,  6, 44,  6,  0],\n",
              "       [ 0,  3,  0,  2, 48, 14,  0],\n",
              "       [ 0,  0,  0,  0,  2, 59,  0],\n",
              "       [ 0,  0,  0,  1,  1,  0, 64]])"
            ]
          },
          "metadata": {},
          "execution_count": 91
        }
      ]
    },
    {
      "cell_type": "code",
      "source": [
        "print('Classification Report of Random Forest Classifier : \\n',classification_report(y_test,y_pred_nb, digits=4))"
      ],
      "metadata": {
        "colab": {
          "base_uri": "https://localhost:8080/"
        },
        "id": "nXNyjS_NpDK-",
        "outputId": "7d80df48-1599-4d13-fd4c-854e8c57ee54"
      },
      "execution_count": 92,
      "outputs": [
        {
          "output_type": "stream",
          "name": "stdout",
          "text": [
            "Classification Report of Random Forest Classifier : \n",
            "               precision    recall  f1-score   support\n",
            "\n",
            "           0     0.7797    0.9020    0.8364        51\n",
            "           1     0.5769    0.2885    0.3846        52\n",
            "           2     0.5676    0.3333    0.4200        63\n",
            "           3     0.4615    0.0952    0.1579        63\n",
            "           4     0.3333    0.7164    0.4550        67\n",
            "           5     0.7375    0.9672    0.8369        61\n",
            "           6     1.0000    0.9697    0.9846        66\n",
            "\n",
            "    accuracy                         0.6123       423\n",
            "   macro avg     0.6366    0.6103    0.5822       423\n",
            "weighted avg     0.6334    0.6123    0.5806       423\n",
            "\n"
          ]
        }
      ]
    },
    {
      "cell_type": "code",
      "source": [
        "model_gbc = GradientBoostingClassifier()"
      ],
      "metadata": {
        "id": "HnAbUemlpDO3"
      },
      "execution_count": 93,
      "outputs": []
    },
    {
      "cell_type": "code",
      "source": [
        "model_gbc.fit(X_train,y_train)"
      ],
      "metadata": {
        "colab": {
          "base_uri": "https://localhost:8080/",
          "height": 75
        },
        "id": "QQFq8zGjpDSP",
        "outputId": "6d2e1114-8fdc-4a01-d15c-5c4bd9fbdcc1"
      },
      "execution_count": 94,
      "outputs": [
        {
          "output_type": "execute_result",
          "data": {
            "text/plain": [
              "GradientBoostingClassifier()"
            ],
            "text/html": [
              "<style>#sk-container-id-4 {color: black;background-color: white;}#sk-container-id-4 pre{padding: 0;}#sk-container-id-4 div.sk-toggleable {background-color: white;}#sk-container-id-4 label.sk-toggleable__label {cursor: pointer;display: block;width: 100%;margin-bottom: 0;padding: 0.3em;box-sizing: border-box;text-align: center;}#sk-container-id-4 label.sk-toggleable__label-arrow:before {content: \"▸\";float: left;margin-right: 0.25em;color: #696969;}#sk-container-id-4 label.sk-toggleable__label-arrow:hover:before {color: black;}#sk-container-id-4 div.sk-estimator:hover label.sk-toggleable__label-arrow:before {color: black;}#sk-container-id-4 div.sk-toggleable__content {max-height: 0;max-width: 0;overflow: hidden;text-align: left;background-color: #f0f8ff;}#sk-container-id-4 div.sk-toggleable__content pre {margin: 0.2em;color: black;border-radius: 0.25em;background-color: #f0f8ff;}#sk-container-id-4 input.sk-toggleable__control:checked~div.sk-toggleable__content {max-height: 200px;max-width: 100%;overflow: auto;}#sk-container-id-4 input.sk-toggleable__control:checked~label.sk-toggleable__label-arrow:before {content: \"▾\";}#sk-container-id-4 div.sk-estimator input.sk-toggleable__control:checked~label.sk-toggleable__label {background-color: #d4ebff;}#sk-container-id-4 div.sk-label input.sk-toggleable__control:checked~label.sk-toggleable__label {background-color: #d4ebff;}#sk-container-id-4 input.sk-hidden--visually {border: 0;clip: rect(1px 1px 1px 1px);clip: rect(1px, 1px, 1px, 1px);height: 1px;margin: -1px;overflow: hidden;padding: 0;position: absolute;width: 1px;}#sk-container-id-4 div.sk-estimator {font-family: monospace;background-color: #f0f8ff;border: 1px dotted black;border-radius: 0.25em;box-sizing: border-box;margin-bottom: 0.5em;}#sk-container-id-4 div.sk-estimator:hover {background-color: #d4ebff;}#sk-container-id-4 div.sk-parallel-item::after {content: \"\";width: 100%;border-bottom: 1px solid gray;flex-grow: 1;}#sk-container-id-4 div.sk-label:hover label.sk-toggleable__label {background-color: #d4ebff;}#sk-container-id-4 div.sk-serial::before {content: \"\";position: absolute;border-left: 1px solid gray;box-sizing: border-box;top: 0;bottom: 0;left: 50%;z-index: 0;}#sk-container-id-4 div.sk-serial {display: flex;flex-direction: column;align-items: center;background-color: white;padding-right: 0.2em;padding-left: 0.2em;position: relative;}#sk-container-id-4 div.sk-item {position: relative;z-index: 1;}#sk-container-id-4 div.sk-parallel {display: flex;align-items: stretch;justify-content: center;background-color: white;position: relative;}#sk-container-id-4 div.sk-item::before, #sk-container-id-4 div.sk-parallel-item::before {content: \"\";position: absolute;border-left: 1px solid gray;box-sizing: border-box;top: 0;bottom: 0;left: 50%;z-index: -1;}#sk-container-id-4 div.sk-parallel-item {display: flex;flex-direction: column;z-index: 1;position: relative;background-color: white;}#sk-container-id-4 div.sk-parallel-item:first-child::after {align-self: flex-end;width: 50%;}#sk-container-id-4 div.sk-parallel-item:last-child::after {align-self: flex-start;width: 50%;}#sk-container-id-4 div.sk-parallel-item:only-child::after {width: 0;}#sk-container-id-4 div.sk-dashed-wrapped {border: 1px dashed gray;margin: 0 0.4em 0.5em 0.4em;box-sizing: border-box;padding-bottom: 0.4em;background-color: white;}#sk-container-id-4 div.sk-label label {font-family: monospace;font-weight: bold;display: inline-block;line-height: 1.2em;}#sk-container-id-4 div.sk-label-container {text-align: center;}#sk-container-id-4 div.sk-container {/* jupyter's `normalize.less` sets `[hidden] { display: none; }` but bootstrap.min.css set `[hidden] { display: none !important; }` so we also need the `!important` here to be able to override the default hidden behavior on the sphinx rendered scikit-learn.org. See: https://github.com/scikit-learn/scikit-learn/issues/21755 */display: inline-block !important;position: relative;}#sk-container-id-4 div.sk-text-repr-fallback {display: none;}</style><div id=\"sk-container-id-4\" class=\"sk-top-container\"><div class=\"sk-text-repr-fallback\"><pre>GradientBoostingClassifier()</pre><b>In a Jupyter environment, please rerun this cell to show the HTML representation or trust the notebook. <br />On GitHub, the HTML representation is unable to render, please try loading this page with nbviewer.org.</b></div><div class=\"sk-container\" hidden><div class=\"sk-item\"><div class=\"sk-estimator sk-toggleable\"><input class=\"sk-toggleable__control sk-hidden--visually\" id=\"sk-estimator-id-4\" type=\"checkbox\" checked><label for=\"sk-estimator-id-4\" class=\"sk-toggleable__label sk-toggleable__label-arrow\">GradientBoostingClassifier</label><div class=\"sk-toggleable__content\"><pre>GradientBoostingClassifier()</pre></div></div></div></div></div>"
            ]
          },
          "metadata": {},
          "execution_count": 94
        }
      ]
    },
    {
      "cell_type": "code",
      "source": [
        "y_pred_gbc = model_gbc.predict(X_test)"
      ],
      "metadata": {
        "id": "Og1cozqLpDVY"
      },
      "execution_count": 95,
      "outputs": []
    },
    {
      "cell_type": "code",
      "source": [
        "confusion_matrix(y_test,y_pred_gbc)"
      ],
      "metadata": {
        "colab": {
          "base_uri": "https://localhost:8080/"
        },
        "id": "4PHCbwSupDau",
        "outputId": "f1ea9125-5343-4f23-b8ce-dd556219968d"
      },
      "execution_count": 96,
      "outputs": [
        {
          "output_type": "execute_result",
          "data": {
            "text/plain": [
              "array([[51,  0,  0,  0,  0,  0,  0],\n",
              "       [ 0, 49,  2,  1,  0,  0,  0],\n",
              "       [ 0,  5, 56,  2,  0,  0,  0],\n",
              "       [ 0,  0,  1, 62,  0,  0,  0],\n",
              "       [ 0,  0,  0,  0, 65,  2,  0],\n",
              "       [ 0,  0,  0,  0,  0, 61,  0],\n",
              "       [ 0,  0,  0,  0,  0,  1, 65]])"
            ]
          },
          "metadata": {},
          "execution_count": 96
        }
      ]
    },
    {
      "cell_type": "code",
      "source": [
        "print('Classification Report of Random Forest Classifier : \\n',classification_report(y_test,y_pred_gbc, digits=4))"
      ],
      "metadata": {
        "colab": {
          "base_uri": "https://localhost:8080/"
        },
        "id": "UarUPaewpDeL",
        "outputId": "1ca1165a-bc3b-41b5-f994-4d30e71cba69"
      },
      "execution_count": 97,
      "outputs": [
        {
          "output_type": "stream",
          "name": "stdout",
          "text": [
            "Classification Report of Random Forest Classifier : \n",
            "               precision    recall  f1-score   support\n",
            "\n",
            "           0     1.0000    1.0000    1.0000        51\n",
            "           1     0.9074    0.9423    0.9245        52\n",
            "           2     0.9492    0.8889    0.9180        63\n",
            "           3     0.9538    0.9841    0.9688        63\n",
            "           4     1.0000    0.9701    0.9848        67\n",
            "           5     0.9531    1.0000    0.9760        61\n",
            "           6     1.0000    0.9848    0.9924        66\n",
            "\n",
            "    accuracy                         0.9669       423\n",
            "   macro avg     0.9662    0.9672    0.9664       423\n",
            "weighted avg     0.9674    0.9669    0.9668       423\n",
            "\n"
          ]
        }
      ]
    },
    {
      "cell_type": "code",
      "source": [
        "model_xgb = XGBClassifier()"
      ],
      "metadata": {
        "id": "qvj3rwWbpDiL"
      },
      "execution_count": 98,
      "outputs": []
    },
    {
      "cell_type": "code",
      "source": [
        "model_xgb.fit(X_train,y_train)"
      ],
      "metadata": {
        "colab": {
          "base_uri": "https://localhost:8080/",
          "height": 248
        },
        "id": "5foZ_YzrpDlN",
        "outputId": "4e5678c7-11da-4aee-9d9a-2bedb87e1296"
      },
      "execution_count": 99,
      "outputs": [
        {
          "output_type": "execute_result",
          "data": {
            "text/plain": [
              "XGBClassifier(base_score=None, booster=None, callbacks=None,\n",
              "              colsample_bylevel=None, colsample_bynode=None,\n",
              "              colsample_bytree=None, early_stopping_rounds=None,\n",
              "              enable_categorical=False, eval_metric=None, feature_types=None,\n",
              "              gamma=None, gpu_id=None, grow_policy=None, importance_type=None,\n",
              "              interaction_constraints=None, learning_rate=None, max_bin=None,\n",
              "              max_cat_threshold=None, max_cat_to_onehot=None,\n",
              "              max_delta_step=None, max_depth=None, max_leaves=None,\n",
              "              min_child_weight=None, missing=nan, monotone_constraints=None,\n",
              "              n_estimators=100, n_jobs=None, num_parallel_tree=None,\n",
              "              objective='multi:softprob', predictor=None, ...)"
            ],
            "text/html": [
              "<style>#sk-container-id-5 {color: black;background-color: white;}#sk-container-id-5 pre{padding: 0;}#sk-container-id-5 div.sk-toggleable {background-color: white;}#sk-container-id-5 label.sk-toggleable__label {cursor: pointer;display: block;width: 100%;margin-bottom: 0;padding: 0.3em;box-sizing: border-box;text-align: center;}#sk-container-id-5 label.sk-toggleable__label-arrow:before {content: \"▸\";float: left;margin-right: 0.25em;color: #696969;}#sk-container-id-5 label.sk-toggleable__label-arrow:hover:before {color: black;}#sk-container-id-5 div.sk-estimator:hover label.sk-toggleable__label-arrow:before {color: black;}#sk-container-id-5 div.sk-toggleable__content {max-height: 0;max-width: 0;overflow: hidden;text-align: left;background-color: #f0f8ff;}#sk-container-id-5 div.sk-toggleable__content pre {margin: 0.2em;color: black;border-radius: 0.25em;background-color: #f0f8ff;}#sk-container-id-5 input.sk-toggleable__control:checked~div.sk-toggleable__content {max-height: 200px;max-width: 100%;overflow: auto;}#sk-container-id-5 input.sk-toggleable__control:checked~label.sk-toggleable__label-arrow:before {content: \"▾\";}#sk-container-id-5 div.sk-estimator input.sk-toggleable__control:checked~label.sk-toggleable__label {background-color: #d4ebff;}#sk-container-id-5 div.sk-label input.sk-toggleable__control:checked~label.sk-toggleable__label {background-color: #d4ebff;}#sk-container-id-5 input.sk-hidden--visually {border: 0;clip: rect(1px 1px 1px 1px);clip: rect(1px, 1px, 1px, 1px);height: 1px;margin: -1px;overflow: hidden;padding: 0;position: absolute;width: 1px;}#sk-container-id-5 div.sk-estimator {font-family: monospace;background-color: #f0f8ff;border: 1px dotted black;border-radius: 0.25em;box-sizing: border-box;margin-bottom: 0.5em;}#sk-container-id-5 div.sk-estimator:hover {background-color: #d4ebff;}#sk-container-id-5 div.sk-parallel-item::after {content: \"\";width: 100%;border-bottom: 1px solid gray;flex-grow: 1;}#sk-container-id-5 div.sk-label:hover label.sk-toggleable__label {background-color: #d4ebff;}#sk-container-id-5 div.sk-serial::before {content: \"\";position: absolute;border-left: 1px solid gray;box-sizing: border-box;top: 0;bottom: 0;left: 50%;z-index: 0;}#sk-container-id-5 div.sk-serial {display: flex;flex-direction: column;align-items: center;background-color: white;padding-right: 0.2em;padding-left: 0.2em;position: relative;}#sk-container-id-5 div.sk-item {position: relative;z-index: 1;}#sk-container-id-5 div.sk-parallel {display: flex;align-items: stretch;justify-content: center;background-color: white;position: relative;}#sk-container-id-5 div.sk-item::before, #sk-container-id-5 div.sk-parallel-item::before {content: \"\";position: absolute;border-left: 1px solid gray;box-sizing: border-box;top: 0;bottom: 0;left: 50%;z-index: -1;}#sk-container-id-5 div.sk-parallel-item {display: flex;flex-direction: column;z-index: 1;position: relative;background-color: white;}#sk-container-id-5 div.sk-parallel-item:first-child::after {align-self: flex-end;width: 50%;}#sk-container-id-5 div.sk-parallel-item:last-child::after {align-self: flex-start;width: 50%;}#sk-container-id-5 div.sk-parallel-item:only-child::after {width: 0;}#sk-container-id-5 div.sk-dashed-wrapped {border: 1px dashed gray;margin: 0 0.4em 0.5em 0.4em;box-sizing: border-box;padding-bottom: 0.4em;background-color: white;}#sk-container-id-5 div.sk-label label {font-family: monospace;font-weight: bold;display: inline-block;line-height: 1.2em;}#sk-container-id-5 div.sk-label-container {text-align: center;}#sk-container-id-5 div.sk-container {/* jupyter's `normalize.less` sets `[hidden] { display: none; }` but bootstrap.min.css set `[hidden] { display: none !important; }` so we also need the `!important` here to be able to override the default hidden behavior on the sphinx rendered scikit-learn.org. See: https://github.com/scikit-learn/scikit-learn/issues/21755 */display: inline-block !important;position: relative;}#sk-container-id-5 div.sk-text-repr-fallback {display: none;}</style><div id=\"sk-container-id-5\" class=\"sk-top-container\"><div class=\"sk-text-repr-fallback\"><pre>XGBClassifier(base_score=None, booster=None, callbacks=None,\n",
              "              colsample_bylevel=None, colsample_bynode=None,\n",
              "              colsample_bytree=None, early_stopping_rounds=None,\n",
              "              enable_categorical=False, eval_metric=None, feature_types=None,\n",
              "              gamma=None, gpu_id=None, grow_policy=None, importance_type=None,\n",
              "              interaction_constraints=None, learning_rate=None, max_bin=None,\n",
              "              max_cat_threshold=None, max_cat_to_onehot=None,\n",
              "              max_delta_step=None, max_depth=None, max_leaves=None,\n",
              "              min_child_weight=None, missing=nan, monotone_constraints=None,\n",
              "              n_estimators=100, n_jobs=None, num_parallel_tree=None,\n",
              "              objective=&#x27;multi:softprob&#x27;, predictor=None, ...)</pre><b>In a Jupyter environment, please rerun this cell to show the HTML representation or trust the notebook. <br />On GitHub, the HTML representation is unable to render, please try loading this page with nbviewer.org.</b></div><div class=\"sk-container\" hidden><div class=\"sk-item\"><div class=\"sk-estimator sk-toggleable\"><input class=\"sk-toggleable__control sk-hidden--visually\" id=\"sk-estimator-id-5\" type=\"checkbox\" checked><label for=\"sk-estimator-id-5\" class=\"sk-toggleable__label sk-toggleable__label-arrow\">XGBClassifier</label><div class=\"sk-toggleable__content\"><pre>XGBClassifier(base_score=None, booster=None, callbacks=None,\n",
              "              colsample_bylevel=None, colsample_bynode=None,\n",
              "              colsample_bytree=None, early_stopping_rounds=None,\n",
              "              enable_categorical=False, eval_metric=None, feature_types=None,\n",
              "              gamma=None, gpu_id=None, grow_policy=None, importance_type=None,\n",
              "              interaction_constraints=None, learning_rate=None, max_bin=None,\n",
              "              max_cat_threshold=None, max_cat_to_onehot=None,\n",
              "              max_delta_step=None, max_depth=None, max_leaves=None,\n",
              "              min_child_weight=None, missing=nan, monotone_constraints=None,\n",
              "              n_estimators=100, n_jobs=None, num_parallel_tree=None,\n",
              "              objective=&#x27;multi:softprob&#x27;, predictor=None, ...)</pre></div></div></div></div></div>"
            ]
          },
          "metadata": {},
          "execution_count": 99
        }
      ]
    },
    {
      "cell_type": "code",
      "source": [
        "y_pred_xgb = model_xgb.predict(X_test)"
      ],
      "metadata": {
        "id": "e7UGNtRfpDoT"
      },
      "execution_count": 100,
      "outputs": []
    },
    {
      "cell_type": "code",
      "source": [
        "confusion_matrix(y_test,y_pred_xgb)"
      ],
      "metadata": {
        "colab": {
          "base_uri": "https://localhost:8080/"
        },
        "id": "-ZpGAw60pDrF",
        "outputId": "4c6f0967-00c3-4c9f-fd84-7e6bde348bf5"
      },
      "execution_count": 101,
      "outputs": [
        {
          "output_type": "execute_result",
          "data": {
            "text/plain": [
              "array([[51,  0,  0,  0,  0,  0,  0],\n",
              "       [ 1, 50,  1,  0,  0,  0,  0],\n",
              "       [ 0,  2, 60,  1,  0,  0,  0],\n",
              "       [ 0,  0,  0, 63,  0,  0,  0],\n",
              "       [ 0,  0,  0,  1, 66,  0,  0],\n",
              "       [ 0,  0,  0,  0,  0, 61,  0],\n",
              "       [ 0,  0,  0,  0,  0,  1, 65]])"
            ]
          },
          "metadata": {},
          "execution_count": 101
        }
      ]
    },
    {
      "cell_type": "code",
      "source": [
        "print('Classification Report of Random Forest Classifier : \\n',classification_report(y_test,y_pred_xgb, digits=4))"
      ],
      "metadata": {
        "colab": {
          "base_uri": "https://localhost:8080/"
        },
        "id": "Xj6EMgfUpDtk",
        "outputId": "ac1a0a2b-c055-4d0f-e0d6-5584cb646681"
      },
      "execution_count": 102,
      "outputs": [
        {
          "output_type": "stream",
          "name": "stdout",
          "text": [
            "Classification Report of Random Forest Classifier : \n",
            "               precision    recall  f1-score   support\n",
            "\n",
            "           0     0.9808    1.0000    0.9903        51\n",
            "           1     0.9615    0.9615    0.9615        52\n",
            "           2     0.9836    0.9524    0.9677        63\n",
            "           3     0.9692    1.0000    0.9844        63\n",
            "           4     1.0000    0.9851    0.9925        67\n",
            "           5     0.9839    1.0000    0.9919        61\n",
            "           6     1.0000    0.9848    0.9924        66\n",
            "\n",
            "    accuracy                         0.9835       423\n",
            "   macro avg     0.9827    0.9834    0.9830       423\n",
            "weighted avg     0.9836    0.9835    0.9834       423\n",
            "\n"
          ]
        }
      ]
    }
  ]
}