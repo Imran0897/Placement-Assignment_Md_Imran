{
  "nbformat": 4,
  "nbformat_minor": 0,
  "metadata": {
    "colab": {
      "provenance": [],
      "authorship_tag": "ABX9TyNNmxC1mqy3Ny192ru8PUZs",
      "include_colab_link": true
    },
    "kernelspec": {
      "name": "python3",
      "display_name": "Python 3"
    },
    "language_info": {
      "name": "python"
    }
  },
  "cells": [
    {
      "cell_type": "markdown",
      "metadata": {
        "id": "view-in-github",
        "colab_type": "text"
      },
      "source": [
        "<a href=\"https://colab.research.google.com/github/Imran0897/Placement-Assignment_Md_Imran/blob/main/Python_10_Placement_Task.ipynb\" target=\"_parent\"><img src=\"https://colab.research.google.com/assets/colab-badge.svg\" alt=\"Open In Colab\"/></a>"
      ]
    },
    {
      "cell_type": "code",
      "source": [
        "import re\n",
        "import nltk\n",
        "from nltk.tokenize import word_tokenize\n",
        "from nltk.corpus import wordnet\n",
        "nltk.download('punkt')\n",
        "nltk.download('wordnet')"
      ],
      "metadata": {
        "colab": {
          "base_uri": "https://localhost:8080/"
        },
        "id": "ycWHUkDVcGLQ",
        "outputId": "1800c46b-638a-49ca-f875-f1ba62eb0117"
      },
      "execution_count": null,
      "outputs": [
        {
          "output_type": "stream",
          "name": "stderr",
          "text": [
            "[nltk_data] Downloading package punkt to /root/nltk_data...\n",
            "[nltk_data]   Package punkt is already up-to-date!\n",
            "[nltk_data] Downloading package wordnet to /root/nltk_data...\n",
            "[nltk_data]   Package wordnet is already up-to-date!\n"
          ]
        },
        {
          "output_type": "execute_result",
          "data": {
            "text/plain": [
              "True"
            ]
          },
          "metadata": {},
          "execution_count": 62
        }
      ]
    },
    {
      "cell_type": "code",
      "source": [
        "def count_pos_tags(text):\n",
        "    # Tokenize the text into words\n",
        "    words = word_tokenize(text)\n",
        "\n",
        "    # Tag the words with their respective part-of-speech (POS) using NLTK\n",
        "    tagged_words = nltk.pos_tag(words)\n",
        "\n",
        "    # Initialize counters\n",
        "    counts = {\n",
        "        'verb': 0,\n",
        "        'noun': 0,\n",
        "        'pronoun': 0,\n",
        "        'adjective': 0\n",
        "    }\n",
        "\n",
        "    # Count the number of verbs, nouns, pronouns, and adjectives\n",
        "    for word, tag in tagged_words:\n",
        "        if tag.startswith('V'):\n",
        "            counts['verb'] += 1\n",
        "        elif tag.startswith('N'):\n",
        "            counts['noun'] += 1\n",
        "        elif tag.startswith('P'):\n",
        "            counts['pronoun'] += 1\n",
        "        elif tag.startswith('J'):\n",
        "            counts['adjective'] += 1\n",
        "\n",
        "    return counts"
      ],
      "metadata": {
        "id": "V0nmfMWviNu8"
      },
      "execution_count": null,
      "outputs": []
    },
    {
      "cell_type": "markdown",
      "source": [
        "Test 1"
      ],
      "metadata": {
        "id": "6ZOIuOm2pWXb"
      }
    },
    {
      "cell_type": "code",
      "source": [
        "text1 = \"She is reading a book.\"\n",
        "counts_01 = count_pos_tags(text1)\n",
        "print(counts_01) "
      ],
      "metadata": {
        "colab": {
          "base_uri": "https://localhost:8080/"
        },
        "id": "geoY6_fnoUn8",
        "outputId": "09e8bf3d-dfaa-4297-d7d1-70fea2f5f1a0"
      },
      "execution_count": null,
      "outputs": [
        {
          "output_type": "stream",
          "name": "stdout",
          "text": [
            "{'verb': 2, 'noun': 1, 'pronoun': 1, 'adjective': 0}\n"
          ]
        }
      ]
    },
    {
      "cell_type": "markdown",
      "source": [
        "Test 2"
      ],
      "metadata": {
        "id": "B3ZWUAPwrjB6"
      }
    },
    {
      "cell_type": "code",
      "source": [
        "text1 = \"The cat chased the mouse.\"\n",
        "counts_02 = count_pos_tags(text1)\n",
        "print(counts_02) "
      ],
      "metadata": {
        "colab": {
          "base_uri": "https://localhost:8080/"
        },
        "id": "znfFXcRDoUs8",
        "outputId": "455cd1c6-2fb1-450f-dd70-0f8c3220d5a4"
      },
      "execution_count": null,
      "outputs": [
        {
          "output_type": "stream",
          "name": "stdout",
          "text": [
            "{'verb': 1, 'noun': 2, 'pronoun': 0, 'adjective': 0}\n"
          ]
        }
      ]
    }
  ]
}