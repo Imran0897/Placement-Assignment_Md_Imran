{
  "nbformat": 4,
  "nbformat_minor": 0,
  "metadata": {
    "colab": {
      "provenance": [],
      "authorship_tag": "ABX9TyP1UOlvP4nfdo7soJIw96F6",
      "include_colab_link": true
    },
    "kernelspec": {
      "name": "python3",
      "display_name": "Python 3"
    },
    "language_info": {
      "name": "python"
    }
  },
  "cells": [
    {
      "cell_type": "markdown",
      "metadata": {
        "id": "view-in-github",
        "colab_type": "text"
      },
      "source": [
        "<a href=\"https://colab.research.google.com/github/Imran0897/Placement-Assignment_Md_Imran/blob/main/Statistic_10_Placement_Task.ipynb\" target=\"_parent\"><img src=\"https://colab.research.google.com/assets/colab-badge.svg\" alt=\"Open In Colab\"/></a>"
      ]
    },
    {
      "cell_type": "markdown",
      "source": [
        " the factory produces a large batch of 500 light bulbs, and the probability of a bulb being defective is 0.05. we can use the binomial distribution to calculate the probabilities and expected values for each question:"
      ],
      "metadata": {
        "id": "9ZCNqSouMmq-"
      }
    },
    {
      "cell_type": "markdown",
      "source": [
        "a. Ans\n",
        "\n",
        "To find the probability of exactly 20 defective bulbs, we can use the binomial probability formula:"
      ],
      "metadata": {
        "id": "oDWIokKwNDGU"
      }
    },
    {
      "cell_type": "code",
      "source": [
        "from math import comb\n",
        "\n",
        "n = 500\n",
        "k = 20\n",
        "p = 0.05\n",
        "\n",
        "probability_20_defective = comb(n, k) * (p ** k) * ((1 - p) ** (n - k))\n",
        "\n",
        "print(f\"The probability that exactly 20 bulbs are defective is: {probability_20_defective}\")"
      ],
      "metadata": {
        "colab": {
          "base_uri": "https://localhost:8080/"
        },
        "id": "hIPKeUETNG77",
        "outputId": "3f319e4a-4465-4c65-daef-f0f16b9d6fc9"
      },
      "execution_count": 1,
      "outputs": [
        {
          "output_type": "stream",
          "name": "stdout",
          "text": [
            "The probability that exactly 20 bulbs are defective is: 0.05161619253663997\n"
          ]
        }
      ]
    },
    {
      "cell_type": "markdown",
      "source": [
        "b. Ans"
      ],
      "metadata": {
        "id": "oxxaH0WaNitW"
      }
    },
    {
      "cell_type": "markdown",
      "source": [
        "To find the probability of at least 10 defective bulbs, we can calculate the complement of the probability that fewer than 10 bulbs are defective:\n",
        "\n",
        "P(X >= 10) = 1 - P(X < 10)"
      ],
      "metadata": {
        "id": "EqIHP2NtNlFS"
      }
    },
    {
      "cell_type": "code",
      "source": [
        "probability_at_least_10_defective = 1 - sum(comb(n, k) * (p ** k) * ((1 - p) ** (n - k)) for k in range(10))\n",
        "print(f\"The probability that at least 10 bulbs are defective is: {probability_at_least_10_defective}\")"
      ],
      "metadata": {
        "colab": {
          "base_uri": "https://localhost:8080/"
        },
        "id": "NNJPfQE3NkTc",
        "outputId": "2317c236-a656-4f54-b147-f044cef1f1dc"
      },
      "execution_count": 2,
      "outputs": [
        {
          "output_type": "stream",
          "name": "stdout",
          "text": [
            "The probability that at least 10 bulbs are defective is: 0.9998316463654902\n"
          ]
        }
      ]
    },
    {
      "cell_type": "markdown",
      "source": [
        "c. Ans"
      ],
      "metadata": {
        "id": "uili6_P5N0nk"
      }
    },
    {
      "cell_type": "markdown",
      "source": [
        "To find the probability of at most 15 defective bulbs, we can calculate the probability of 0, 1, 2, ..., up to 15 defective bulbs and sum up these probabilities:\n",
        "\n",
        "P(X <= 15) = P(X = 0) + P(X = 1) + ... + P(X = 15)"
      ],
      "metadata": {
        "id": "dEI_GAleN55k"
      }
    },
    {
      "cell_type": "code",
      "source": [
        "probability_at_most_15_defective = sum(comb(n, k) * (p ** k) * ((1 - p) ** (n - k)) for k in range(16))\n",
        "print(f\"The probability that at most 15 bulbs are defective is: {probability_at_most_15_defective}\")"
      ],
      "metadata": {
        "colab": {
          "base_uri": "https://localhost:8080/"
        },
        "id": "A6psW6C3NLyU",
        "outputId": "08b71518-f5bb-44fa-9086-bfb9da36bdcc"
      },
      "execution_count": 3,
      "outputs": [
        {
          "output_type": "stream",
          "name": "stdout",
          "text": [
            "The probability that at most 15 bulbs are defective is: 0.019858377163006223\n"
          ]
        }
      ]
    },
    {
      "cell_type": "markdown",
      "source": [
        "d. Ans"
      ],
      "metadata": {
        "id": "kUxtduhhOIht"
      }
    },
    {
      "cell_type": "markdown",
      "source": [
        "The expected number of defective bulbs in a batch of 500, we can use \n",
        "\n",
        "E(X) = n * p"
      ],
      "metadata": {
        "id": "-OYlVcZFOQ_D"
      }
    },
    {
      "cell_type": "code",
      "source": [
        "expected_defective_bulbs = n * p\n",
        "print(f\"The expected number of defective bulbs in a batch of 500 is: {expected_defective_bulbs}\")"
      ],
      "metadata": {
        "colab": {
          "base_uri": "https://localhost:8080/"
        },
        "id": "Mbd3xTXPOF9b",
        "outputId": "d2e15ecf-c31e-4d24-9b75-021fbcd22c48"
      },
      "execution_count": 4,
      "outputs": [
        {
          "output_type": "stream",
          "name": "stdout",
          "text": [
            "The expected number of defective bulbs in a batch of 500 is: 25.0\n"
          ]
        }
      ]
    }
  ]
}