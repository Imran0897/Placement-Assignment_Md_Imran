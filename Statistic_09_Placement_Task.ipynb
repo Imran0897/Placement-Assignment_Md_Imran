{
  "nbformat": 4,
  "nbformat_minor": 0,
  "metadata": {
    "colab": {
      "provenance": [],
      "authorship_tag": "ABX9TyPiIl2pIzD+K7lBQM8ISL/G",
      "include_colab_link": true
    },
    "kernelspec": {
      "name": "python3",
      "display_name": "Python 3"
    },
    "language_info": {
      "name": "python"
    }
  },
  "cells": [
    {
      "cell_type": "markdown",
      "metadata": {
        "id": "view-in-github",
        "colab_type": "text"
      },
      "source": [
        "<a href=\"https://colab.research.google.com/github/Imran0897/Placement-Assignment_Md_Imran/blob/main/Statistic_09_Placement_Task.ipynb\" target=\"_parent\"><img src=\"https://colab.research.google.com/assets/colab-badge.svg\" alt=\"Open In Colab\"/></a>"
      ]
    },
    {
      "cell_type": "markdown",
      "source": [
        "To test the hypothesis that the mean scores of all the students are the same, we can use one-way analysis of variance (ANOVA). ANOVA allows us to compare the means of multiple groups and determine if there are significant differences among them.\n"
      ],
      "metadata": {
        "id": "TckiL_TFKFYt"
      }
    },
    {
      "cell_type": "code",
      "source": [
        "# Given data\n",
        "exam1_scores = [85, 70, 90, 75, 95]\n",
        "exam2_scores = [90, 80, 85, 70, 92]\n",
        "final_scores =   [92, 85, 88, 75, 96]"
      ],
      "metadata": {
        "id": "69aFC_lQKRyC"
      },
      "execution_count": 4,
      "outputs": []
    },
    {
      "cell_type": "code",
      "source": [
        "from scipy.stats import f_oneway\n",
        "\n",
        "# Perform one-way ANOVA\n",
        "statistic, p_value = f_oneway(exam1_scores, exam2_scores,final_scores)\n",
        "\n",
        "# Interpret the result\n",
        "alpha = 0.05  # significance level\n",
        "\n",
        "if p_value < alpha:\n",
        "    print(\"The mean scores of the students are not the same.\")\n",
        "\n",
        "    # Find the student with the highest score\n",
        "    all_scores = exam1_scores + exam2_scores+final_scores\n",
        "    highest_score = max(all_scores)\n",
        "    student_with_highest_score = \"\"\n",
        "\n",
        "    if highest_score in exam1_scores:\n",
        "        student_with_highest_score = \"Jeevan\"\n",
        "    elif highest_score in exam2_scores:\n",
        "        student_with_highest_score = \"Jeevan\"\n",
        "    elif highest_score in final_scores:\n",
        "        student_with_highest_score = \"Jeevan\"\n",
        "\n",
        "    print(f\"The student with the highest score is: {student_with_highest_score}\")\n",
        "else:\n",
        "    print(\"The mean scores of the students are the same.\")"
      ],
      "metadata": {
        "colab": {
          "base_uri": "https://localhost:8080/"
        },
        "id": "OyxjHUkrKnk4",
        "outputId": "02f1fc36-d826-44d8-fbbf-753941c236f2"
      },
      "execution_count": 5,
      "outputs": [
        {
          "output_type": "stream",
          "name": "stdout",
          "text": [
            "The mean scores of the students are the same.\n"
          ]
        }
      ]
    },
    {
      "cell_type": "markdown",
      "source": [
        "The ANOVA test provides a p-value that indicates the significance of the differences among the mean scores. If the p-value is less than the chosen significance level (alpha), we reject the null hypothesis and conclude that the mean scores are not the same. In this case, we can find the student with the highest score by comparing the scores from all three exams."
      ],
      "metadata": {
        "id": "dZiudpDHLwvr"
      }
    }
  ]
}