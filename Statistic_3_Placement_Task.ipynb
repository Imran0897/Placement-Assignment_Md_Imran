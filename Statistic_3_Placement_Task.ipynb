{
  "nbformat": 4,
  "nbformat_minor": 0,
  "metadata": {
    "colab": {
      "provenance": [],
      "authorship_tag": "ABX9TyOg3sTHB4YEi3Zk8qtL4fVk",
      "include_colab_link": true
    },
    "kernelspec": {
      "name": "python3",
      "display_name": "Python 3"
    },
    "language_info": {
      "name": "python"
    }
  },
  "cells": [
    {
      "cell_type": "markdown",
      "metadata": {
        "id": "view-in-github",
        "colab_type": "text"
      },
      "source": [
        "<a href=\"https://colab.research.google.com/github/Imran0897/Placement-Assignment_Md_Imran/blob/main/Statistic_3_Placement_Task.ipynb\" target=\"_parent\"><img src=\"https://colab.research.google.com/assets/colab-badge.svg\" alt=\"Open In Colab\"/></a>"
      ]
    },
    {
      "cell_type": "markdown",
      "source": [
        "2(a)-Ans\n",
        "\n",
        "To measure the dispersion in the 'Blood Pressure Before' and 'Blood Pressure After' columns,  we can calculate the range, variance, and standard deviation.\n",
        "\n",
        "Range:\n",
        "\n",
        "\n",
        "Variance:\n",
        "To calculate the variance, we need to find the average squared deviation from the mean for each column. The variance measures the spread of values around the mean."
      ],
      "metadata": {
        "id": "pkZUXgdN3ews"
      }
    },
    {
      "cell_type": "code",
      "source": [
        "import numpy as np\n",
        "import matplotlib.pyplot as plt"
      ],
      "metadata": {
        "id": "hZKVaOIe6o1J"
      },
      "execution_count": null,
      "outputs": []
    },
    {
      "cell_type": "code",
      "source": [
        "blood_pressure_before = [130,142,120,135,148,122,137,130,142,128,135,140,132,145,124,128,136,143,127,139,135,131,127,130,142,128,136,140,132,145,124,128,136,143,127,139,135,131,127,130,142,128,136,140,132,145,124,128,136,143,127,139,135,131,127,130,142,128,136,140,132,145,124,128,136,143,127,139,135,131,127,130,142,128,136,140,132,145,124,128,136,143,127,139,135,131,127,130,128,136,140,132,145,124,128,136,143,127,139,135]"
      ],
      "metadata": {
        "id": "yB86xUCI6TKH"
      },
      "execution_count": null,
      "outputs": []
    },
    {
      "cell_type": "code",
      "source": [
        "blood_pressure_after = [120,135,118,127,140,118,129,124,137,125,129,132,125,136,118,122,130,139,123,132,131,126,120,123,139,122,129,136,127,140,119,121,129,137,122,135,129,124,119,124,139,123,131,135,127,141,118,121,129,137,123,135,130,125,121,124,139,123,131,136,127,141,118,121,129,137,123,135,130,124,121,124,139,123,131,136,127,141,118,121,129,137,123,135,130,125,121,124,122,129,135,127,141,118,121,129,137,123,135,130]"
      ],
      "metadata": {
        "id": "UF23opPG6WbJ"
      },
      "execution_count": null,
      "outputs": []
    },
    {
      "cell_type": "code",
      "source": [
        "# Range - To calculate the range, you need to find the difference between the maximum and minimum values in each column. \n",
        "#         The range indicates the spread of values in the dataset.\n",
        "\n",
        "range_before = np.max(blood_pressure_before) - np.min(blood_pressure_before)\n",
        "range_after = np.max(blood_pressure_after) - np.min(blood_pressure_after)\n",
        "print(\"Range (Blood Pressure Before):\", range_before)\n",
        "print(\"Range (Blood Pressure After):\", range_after)\n",
        "\n",
        "# Variance\n",
        "variance_before = np.var(blood_pressure_before)\n",
        "variance_after = np.var(blood_pressure_after)\n",
        "\n",
        "print(\"Variance (Blood Pressure Before):\", variance_before)\n",
        "print(\"Variance (Blood Pressure After):\", variance_after)\n",
        "\n",
        "# Standard Deviation\n",
        "std_dev_before = np.std(blood_pressure_before)\n",
        "std_dev_after = np.std(blood_pressure_after)\n",
        "\n",
        "print(\"Standard Deviation (Blood Pressure Before):\", std_dev_before)\n",
        "print(\"Standard Deviation (Blood Pressure After):\", std_dev_after)"
      ],
      "metadata": {
        "colab": {
          "base_uri": "https://localhost:8080/"
        },
        "id": "W5n_T9d156td",
        "outputId": "128cbae6-b49d-490e-f087-7c5575d7ef2b"
      },
      "execution_count": null,
      "outputs": [
        {
          "output_type": "stream",
          "name": "stdout",
          "text": [
            "Range (Blood Pressure Before): 28\n",
            "Range (Blood Pressure After): 23\n",
            "Variance (Blood Pressure Before): 43.10189999999999\n",
            "Variance (Blood Pressure After): 46.97039999999999\n",
            "Standard Deviation (Blood Pressure Before): 6.56520372875054\n",
            "Standard Deviation (Blood Pressure After): 6.853495458523336\n"
          ]
        }
      ]
    },
    {
      "cell_type": "markdown",
      "source": [
        "2(b) Ans-"
      ],
      "metadata": {
        "id": "ZvDW81lr60Vw"
      }
    },
    {
      "cell_type": "code",
      "source": [
        "# Calculate mean\n",
        "mean_before = np.mean(blood_pressure_before)\n",
        "mean_after = np.mean(blood_pressure_after)\n",
        "\n",
        "# Calculate confidence interval (using t-distribution with 99 degrees of freedom for a 5% confidence level)\n",
        "confidence_interval_before = 1.984 * np.std(blood_pressure_before) / np.sqrt(len(blood_pressure_before))\n",
        "confidence_interval_after = 1.984 * np.std(blood_pressure_after) / np.sqrt(len(blood_pressure_after))\n",
        "\n",
        "# Plot the means\n",
        "labels = ['Blood Pressure Before', 'Blood Pressure After']\n",
        "means = [mean_before, mean_after]\n",
        "error = [confidence_interval_before, confidence_interval_after]\n",
        "\n",
        "plt.bar(labels, means, yerr=error, capsize=5)\n",
        "plt.ylabel('Mean Blood Pressure')\n",
        "plt.title('Mean Blood Pressure Before and After')\n",
        "\n",
        "plt.show()"
      ],
      "metadata": {
        "colab": {
          "base_uri": "https://localhost:8080/",
          "height": 452
        },
        "id": "tcUiLkMh5k6J",
        "outputId": "d80f625b-4ede-4da8-e05d-6975439231a6"
      },
      "execution_count": null,
      "outputs": [
        {
          "output_type": "display_data",
          "data": {
            "text/plain": [
              "<Figure size 640x480 with 1 Axes>"
            ],
            "image/png": "[encoded data removed]"
          },
          "metadata": {}
        }
      ]
    },
    {
      "cell_type": "markdown",
      "source": [
        "2(c) Ans-\n",
        "\n",
        " The MAD measures the average distance of each data point from the mean, while the SD measures the dispersion or spread of the data around the mean."
      ],
      "metadata": {
        "id": "gRivd9IP7X1R"
      }
    },
    {
      "cell_type": "code",
      "source": [
        "# Calculate Mean Absolute Deviation (MAD)\n",
        "mad_before = np.mean(np.abs(blood_pressure_before - np.mean(blood_pressure_before)))\n",
        "mad_after = np.mean(np.abs(blood_pressure_after - np.mean(blood_pressure_after)))\n",
        "\n",
        "print(\"Mean Absolute Deviation (MAD) Before:\", mad_before)\n",
        "print(\"Mean Absolute Deviation (MAD) After:\", mad_after)\n",
        "\n",
        "# Calculate Standard Deviation (SD)\n",
        "sd_before = np.std(blood_pressure_before)\n",
        "sd_after = np.std(blood_pressure_after)\n",
        "\n",
        "print(\"Standard Deviation (SD) Before:\", sd_before)\n",
        "print(\"Standard Deviation (SD) After:\", sd_after)"
      ],
      "metadata": {
        "colab": {
          "base_uri": "https://localhost:8080/"
        },
        "id": "UVmUUL8G7NnC",
        "outputId": "eb5ea46e-2b8c-48d8-c9bf-006a99616439"
      },
      "execution_count": null,
      "outputs": [
        {
          "output_type": "stream",
          "name": "stdout",
          "text": [
            "Mean Absolute Deviation (MAD) Before: 5.7118\n",
            "Mean Absolute Deviation (MAD) After: 5.9\n",
            "Standard Deviation (SD) Before: 6.56520372875054\n",
            "Standard Deviation (SD) After: 6.853495458523336\n"
          ]
        }
      ]
    },
    {
      "cell_type": "markdown",
      "source": [
        "Interpretation of the results:\n",
        "\n",
        "The Mean Absolute Deviation (MAD) measures the average absolute difference between each data point and the mean. In this case, the MAD before treatment is 5.7118 and the MAD after treatment is 5.9 This indicates that, on average, the blood pressure values deviate by approximately 5.7118 mmHg before treatment and 5.9 mmHg after treatment from their respective means. Smaller MAD values indicate less dispersion or spread of data around the mean.\n",
        "The Standard Deviation (SD) measures the dispersion or spread of the data around the mean. In this case, the SD before treatment is 6.565 and the SD after treatment is 6.8534. A larger SD indicates a greater spread of data points from the mean, indicating more variability in blood pressure values. The SD is sensitive to outliers and extreme values.\n",
        "Comparing the MAD and SD values, we can see that the dispersion of blood pressure values is slightly higher after treatment."
      ],
      "metadata": {
        "id": "2CF4bwJL8J01"
      }
    },
    {
      "cell_type": "markdown",
      "source": [
        "2(d) Ans - \n",
        "\n",
        "To calculate the correlation coefficient between the 'Blood Pressure Before' and 'Blood Pressure After' columns and check its significance at a 1% level of significance, we can use the provided data and perform a correlation test."
      ],
      "metadata": {
        "id": "bJ3Niwqg8747"
      }
    },
    {
      "cell_type": "code",
      "source": [
        "# Calculate the correlation coefficient\n",
        "from scipy.stats import pearsonr\n",
        "correlation_coef, p_value = pearsonr(blood_pressure_before, blood_pressure_after)\n",
        "\n",
        "print(\"Correlation Coefficient:\", correlation_coef)\n",
        "print(\"p-value:\", p_value)\n",
        "\n",
        "# Check significance at 1% level of significance\n",
        "alpha = 0.01\n",
        "if p_value < alpha:\n",
        "    print(\"The correlation is significant at the 1% level.\")\n",
        "else:\n",
        "    print(\"The correlation is not significant at the 1% level.\")"
      ],
      "metadata": {
        "colab": {
          "base_uri": "https://localhost:8080/"
        },
        "id": "nvcVrJGv87IB",
        "outputId": "d44b430f-15ec-49ee-a72e-0b2be7cea7f5"
      },
      "execution_count": null,
      "outputs": [
        {
          "output_type": "stream",
          "name": "stdout",
          "text": [
            "Correlation Coefficient: 0.9779485966556017\n",
            "p-value: 1.8097381433068578e-68\n",
            "The correlation is significant at the 1% level.\n"
          ]
        }
      ]
    }
  ]
}