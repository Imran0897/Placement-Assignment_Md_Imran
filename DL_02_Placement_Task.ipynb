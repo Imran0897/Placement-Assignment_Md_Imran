{
  "nbformat": 4,
  "nbformat_minor": 0,
  "metadata": {
    "colab": {
      "provenance": [],
      "authorship_tag": "ABX9TyO4uPQMwpplkj9uQ77RSgaU",
      "include_colab_link": true
    },
    "kernelspec": {
      "name": "python3",
      "display_name": "Python 3"
    },
    "language_info": {
      "name": "python"
    }
  },
  "cells": [
    {
      "cell_type": "markdown",
      "metadata": {
        "id": "view-in-github",
        "colab_type": "text"
      },
      "source": [
        "<a href=\"https://colab.research.google.com/github/Imran0897/Placement-Assignment_Md_Imran/blob/main/DL_02_Placement_Task.ipynb\" target=\"_parent\"><img src=\"https://colab.research.google.com/assets/colab-badge.svg\" alt=\"Open In Colab\"/></a>"
      ]
    },
    {
      "cell_type": "code",
      "source": [
        "pip install torch"
      ],
      "metadata": {
        "colab": {
          "base_uri": "https://localhost:8080/"
        },
        "id": "6Ivsv-oZWv8J",
        "outputId": "696330e0-fec3-436c-a1f5-928fefb532a5"
      },
      "execution_count": null,
      "outputs": [
        {
          "output_type": "stream",
          "name": "stdout",
          "text": [
            "Looking in indexes: https://pypi.org/simple, https://us-python.pkg.dev/colab-wheels/public/simple/\n",
            "Requirement already satisfied: torch in /usr/local/lib/python3.10/dist-packages (2.0.1+cu118)\n",
            "Requirement already satisfied: filelock in /usr/local/lib/python3.10/dist-packages (from torch) (3.12.0)\n",
            "Requirement already satisfied: typing-extensions in /usr/local/lib/python3.10/dist-packages (from torch) (4.5.0)\n",
            "Requirement already satisfied: sympy in /usr/local/lib/python3.10/dist-packages (from torch) (1.11.1)\n",
            "Requirement already satisfied: networkx in /usr/local/lib/python3.10/dist-packages (from torch) (3.1)\n",
            "Requirement already satisfied: jinja2 in /usr/local/lib/python3.10/dist-packages (from torch) (3.1.2)\n",
            "Requirement already satisfied: triton==2.0.0 in /usr/local/lib/python3.10/dist-packages (from torch) (2.0.0)\n",
            "Requirement already satisfied: cmake in /usr/local/lib/python3.10/dist-packages (from triton==2.0.0->torch) (3.25.2)\n",
            "Requirement already satisfied: lit in /usr/local/lib/python3.10/dist-packages (from triton==2.0.0->torch) (16.0.5)\n",
            "Requirement already satisfied: MarkupSafe>=2.0 in /usr/local/lib/python3.10/dist-packages (from jinja2->torch) (2.1.2)\n",
            "Requirement already satisfied: mpmath>=0.19 in /usr/local/lib/python3.10/dist-packages (from sympy->torch) (1.3.0)\n"
          ]
        }
      ]
    },
    {
      "cell_type": "code",
      "source": [
        "import torch\n",
        "import torch.nn as nn\n",
        "import torch.optim as optim\n",
        "import torchvision\n",
        "import torchvision.transforms as transforms"
      ],
      "metadata": {
        "id": "5lJQWFiuBG8C"
      },
      "execution_count": null,
      "outputs": []
    },
    {
      "cell_type": "code",
      "source": [
        "# Set device configuration (CPU or GPU)\n",
        "device = torch.device(\"cuda\" if torch.cuda.is_available() else \"cpu\")"
      ],
      "metadata": {
        "id": "q0Kr0Sj-JKVW"
      },
      "execution_count": null,
      "outputs": []
    },
    {
      "cell_type": "code",
      "source": [
        "# Define a function to count the number of model parameters\n",
        "def count_parameters(model):\n",
        "    return sum(p.numel() for p in model.parameters() if p.requires_grad)"
      ],
      "metadata": {
        "id": "Ut0bbUVgJQOk"
      },
      "execution_count": null,
      "outputs": []
    },
    {
      "cell_type": "code",
      "source": [
        "# Load and preprocess the CIFAR-10 dataset\n",
        "transform = transforms.Compose(\n",
        "    [transforms.ToTensor(), transforms.Normalize((0.5, 0.5, 0.5), (0.5, 0.5, 0.5))])\n",
        "\n",
        "trainset = torchvision.datasets.CIFAR10(root='./data', train=True,\n",
        "                                        download=True, transform=transform)\n",
        "trainloader = torch.utils.data.DataLoader(trainset, batch_size=128,\n",
        "                                          shuffle=True, num_workers=2)\n",
        "\n",
        "testset = torchvision.datasets.CIFAR10(root='./data', train=False,\n",
        "                                       download=True, transform=transform)\n",
        "testloader = torch.utils.data.DataLoader(testset, batch_size=128,\n",
        "                                         shuffle=False, num_workers=2)"
      ],
      "metadata": {
        "colab": {
          "base_uri": "https://localhost:8080/"
        },
        "id": "OwtMcGGPJTRw",
        "outputId": "b3c2afb7-fdd8-4f3b-8726-aa3e1ee9d4f4"
      },
      "execution_count": null,
      "outputs": [
        {
          "output_type": "stream",
          "name": "stdout",
          "text": [
            "Files already downloaded and verified\n",
            "Files already downloaded and verified\n"
          ]
        }
      ]
    },
    {
      "cell_type": "markdown",
      "source": [
        "CNN architecure 1"
      ],
      "metadata": {
        "id": "Iddik_1IW4vb"
      }
    },
    {
      "cell_type": "code",
      "source": [
        "# Define the CNN model\n",
        "class Model1(nn.Module):\n",
        "    def __init__(self):\n",
        "        super(Model1, self).__init__()\n",
        "        self.conv1 = nn.Conv2d(3, 8, 5, padding=1)\n",
        "        self.pool = nn.MaxPool2d(3, 3)\n",
        "        self.fc1 = nn.Linear(8 * 10 * 10, 10)\n",
        "        self.fc2 = nn.Linear(10, 10)\n",
        "\n",
        "    def forward(self, x):\n",
        "        x = self.pool(torch.relu(self.conv1(x)))\n",
        "        x = x.view(-1, 8 * 10 * 10)\n",
        "        x = torch.relu(self.fc1(x))\n",
        "        x = self.fc2(x)\n",
        "        return x\n"
      ],
      "metadata": {
        "id": "E7I0160lJTck"
      },
      "execution_count": null,
      "outputs": []
    },
    {
      "cell_type": "code",
      "source": [
        "model1 = Model1().to(device)"
      ],
      "metadata": {
        "id": "Pwn6ZyAUJhfA"
      },
      "execution_count": null,
      "outputs": []
    },
    {
      "cell_type": "code",
      "source": [
        "# Define the loss function and optimizer\n",
        "criterion = nn.CrossEntropyLoss()\n",
        "optimizer1 = optim.Adam(model1.parameters(), lr=0.001)"
      ],
      "metadata": {
        "id": "EzJk3_JVJhn1"
      },
      "execution_count": null,
      "outputs": []
    },
    {
      "cell_type": "code",
      "source": [
        "# Function to train the model\n",
        "def train_model(model, optimizer):\n",
        "    model.train()\n",
        "    running_loss = 0.0\n",
        "    for inputs, labels in trainloader:\n",
        "        inputs, labels = inputs.to(device), labels.to(device)\n",
        "        optimizer.zero_grad()\n",
        "        outputs = model(inputs)\n",
        "        loss = criterion(outputs, labels)\n",
        "        loss.backward()\n",
        "        optimizer.step()\n",
        "        running_loss += loss.item()\n",
        "    return running_loss / len(trainloader)"
      ],
      "metadata": {
        "id": "j_voaghGJhrW"
      },
      "execution_count": null,
      "outputs": []
    },
    {
      "cell_type": "code",
      "source": [
        "# Function to evaluate the model\n",
        "def evaluate_model(model):\n",
        "    model.eval()\n",
        "    correct = 0\n",
        "    total = 0\n",
        "    with torch.no_grad():\n",
        "        for inputs, labels in testloader:\n",
        "            inputs, labels = inputs.to(device), labels.to(device)\n",
        "            outputs = model(inputs)\n",
        "            _, predicted = torch.max(outputs.data, 1)\n",
        "            total += labels.size(0)\n",
        "            correct += (predicted == labels).sum().item()\n",
        "    return correct / total\n"
      ],
      "metadata": {
        "id": "BmwQFXvDJu7x"
      },
      "execution_count": null,
      "outputs": []
    },
    {
      "cell_type": "code",
      "source": [
        "# Train the models and evaluate their performance\n",
        "num_epochs = 10"
      ],
      "metadata": {
        "id": "FEy3SIa7Ju_7"
      },
      "execution_count": null,
      "outputs": []
    },
    {
      "cell_type": "code",
      "source": [
        "# Training and evaluation for Model 1\n",
        "for epoch in range(num_epochs):\n",
        "    loss = train_model(model1, optimizer1)\n",
        "    accuracy = evaluate_model(model1)\n",
        "    print(f\"Model 1 - Epoch [{epoch+1}/{num_epochs}], Loss: {loss:.4f}, Accuracy: {accuracy:.4f}\")"
      ],
      "metadata": {
        "colab": {
          "base_uri": "https://localhost:8080/"
        },
        "id": "t6pcEGJoJ4kq",
        "outputId": "8a2b6f1f-6684-44e5-e351-a24be5ceb734"
      },
      "execution_count": null,
      "outputs": [
        {
          "output_type": "stream",
          "name": "stdout",
          "text": [
            "Model 1 - Epoch [1/10], Loss: 1.5400, Accuracy: 0.4732\n",
            "Model 1 - Epoch [2/10], Loss: 1.4551, Accuracy: 0.4883\n",
            "Model 1 - Epoch [3/10], Loss: 1.3976, Accuracy: 0.5131\n",
            "Model 1 - Epoch [4/10], Loss: 1.3554, Accuracy: 0.5226\n",
            "Model 1 - Epoch [5/10], Loss: 1.3214, Accuracy: 0.5295\n",
            "Model 1 - Epoch [6/10], Loss: 1.2954, Accuracy: 0.5298\n",
            "Model 1 - Epoch [7/10], Loss: 1.2706, Accuracy: 0.5436\n",
            "Model 1 - Epoch [8/10], Loss: 1.2481, Accuracy: 0.5491\n",
            "Model 1 - Epoch [9/10], Loss: 1.2347, Accuracy: 0.5503\n",
            "Model 1 - Epoch [10/10], Loss: 1.2163, Accuracy: 0.5574\n"
          ]
        }
      ]
    },
    {
      "cell_type": "code",
      "source": [
        "# Count the number of parameters for each model\n",
        "params1 = count_parameters(model1)"
      ],
      "metadata": {
        "id": "AbyspuLxJ4os"
      },
      "execution_count": null,
      "outputs": []
    },
    {
      "cell_type": "code",
      "source": [
        "# Print the comparison table\n",
        "print(\"Model\\t\\tParameters\")\n",
        "print(\"----------------------------\")\n",
        "print(f\"Model 1:\\t{params1}\")"
      ],
      "metadata": {
        "colab": {
          "base_uri": "https://localhost:8080/"
        },
        "id": "g7SvIJs0KDIm",
        "outputId": "a3ea6b32-2aa5-4622-a9fe-12006af87ca2"
      },
      "execution_count": null,
      "outputs": [
        {
          "output_type": "stream",
          "name": "stdout",
          "text": [
            "Model\t\tParameters\n",
            "----------------------------\n",
            "Model 1:\t8728\n"
          ]
        }
      ]
    },
    {
      "cell_type": "markdown",
      "source": [
        "CNN architecure 2"
      ],
      "metadata": {
        "id": "sAfu5bKpXK2j"
      }
    },
    {
      "cell_type": "code",
      "source": [
        "class Model2(nn.Module):\n",
        "    def __init__(self):\n",
        "        super(Model2, self).__init__()\n",
        "        self.conv1 = nn.Conv2d(3, 6, 3, padding=1)\n",
        "        self.conv2 = nn.Conv2d(6, 8, 3, padding=1)\n",
        "        self.pool = nn.MaxPool2d(2, 2)\n",
        "        self.fc1 = nn.Linear(8 * 8 * 8, 12)\n",
        "        self.fc2 = nn.Linear(12, 10)\n",
        "\n",
        "    def forward(self, x):\n",
        "        x = self.pool(torch.relu(self.conv1(x)))\n",
        "        x = self.pool(torch.relu(self.conv2(x)))\n",
        "        x = x.view(-1, 8 * 8 * 8)\n",
        "        x = torch.relu(self.fc1(x))\n",
        "        x = self.fc2(x)\n",
        "        return x"
      ],
      "metadata": {
        "id": "HgZR0ebAXZF6"
      },
      "execution_count": null,
      "outputs": []
    },
    {
      "cell_type": "code",
      "source": [
        "# create the model\n",
        "model2 = Model2().to(device)"
      ],
      "metadata": {
        "id": "PSZxYB5EXZbi"
      },
      "execution_count": null,
      "outputs": []
    },
    {
      "cell_type": "code",
      "source": [
        "# Define the optimizer\n",
        "optimizer2 = optim.Adam(model2.parameters(), lr=0.001)"
      ],
      "metadata": {
        "id": "A6v3SQciXZnh"
      },
      "execution_count": null,
      "outputs": []
    },
    {
      "cell_type": "code",
      "source": [
        "# Training and evaluation for Model 2\n",
        "for epoch in range(num_epochs):\n",
        "    loss = train_model(model2, optimizer2)\n",
        "    accuracy = evaluate_model(model2)\n",
        "    print(f\"Model 2 - Epoch [{epoch+1}/{num_epochs}], Loss: {loss:.4f}, Accuracy: {accuracy:.4f}\")\n"
      ],
      "metadata": {
        "colab": {
          "base_uri": "https://localhost:8080/"
        },
        "id": "xtpyYNd4ZCur",
        "outputId": "0a85aad0-1b14-4c70-b343-b1a062446abd"
      },
      "execution_count": null,
      "outputs": [
        {
          "output_type": "stream",
          "name": "stdout",
          "text": [
            "Model 2 - Epoch [1/10], Loss: 1.7532, Accuracy: 0.4203\n",
            "Model 2 - Epoch [2/10], Loss: 1.5656, Accuracy: 0.4422\n",
            "Model 2 - Epoch [3/10], Loss: 1.4994, Accuracy: 0.4639\n",
            "Model 2 - Epoch [4/10], Loss: 1.4507, Accuracy: 0.4771\n",
            "Model 2 - Epoch [5/10], Loss: 1.4096, Accuracy: 0.4973\n",
            "Model 2 - Epoch [6/10], Loss: 1.3739, Accuracy: 0.5007\n",
            "Model 2 - Epoch [7/10], Loss: 1.3513, Accuracy: 0.5180\n",
            "Model 2 - Epoch [8/10], Loss: 1.3283, Accuracy: 0.5167\n",
            "Model 2 - Epoch [9/10], Loss: 1.3100, Accuracy: 0.5265\n",
            "Model 2 - Epoch [10/10], Loss: 1.2940, Accuracy: 0.5388\n"
          ]
        }
      ]
    },
    {
      "cell_type": "code",
      "source": [
        "# count the parameters\n",
        "params2 = count_parameters(model2)"
      ],
      "metadata": {
        "id": "lAyjHYH1ZCzk"
      },
      "execution_count": null,
      "outputs": []
    },
    {
      "cell_type": "code",
      "source": [
        "print(f\"Model 2:\\t{params2}\")"
      ],
      "metadata": {
        "colab": {
          "base_uri": "https://localhost:8080/"
        },
        "id": "lq0hGLQqZMcT",
        "outputId": "530e7d74-3941-4cdd-964c-e4e982355073"
      },
      "execution_count": null,
      "outputs": [
        {
          "output_type": "stream",
          "name": "stdout",
          "text": [
            "Model 2:\t6894\n"
          ]
        }
      ]
    },
    {
      "cell_type": "markdown",
      "source": [
        "CNN architecure 3"
      ],
      "metadata": {
        "id": "Rlrd1t8Sbhgl"
      }
    },
    {
      "cell_type": "code",
      "source": [
        "# Define the cnn model\n",
        "class Model3(nn.Module):\n",
        "    def __init__(self):\n",
        "        super(Model3, self).__init__()\n",
        "        self.conv1 = nn.Conv2d(3, 8, 3, stride=1, padding=1)\n",
        "        self.conv2 = nn.Conv2d(8, 12, 3, stride=1, padding=1)\n",
        "        self.conv3 = nn.Conv2d(12, 16, 3,stride=1, padding=1)\n",
        "        self.pool = nn.MaxPool2d(2, 2)\n",
        "        self.fc1 = nn.Linear(16 * 4 * 4, 16)\n",
        "        self.fc2 = nn.Linear(16, 10)\n",
        "\n",
        "    def forward(self, x):\n",
        "        x = self.pool(torch.relu(self.conv1(x)))\n",
        "        x = self.pool(torch.relu(self.conv2(x)))\n",
        "        x = self.pool(torch.relu(self.conv3(x)))\n",
        "        x = x.view(-1, 16* 4 * 4)\n",
        "        x = torch.relu(self.fc1(x))\n",
        "        x = self.fc2(x)\n",
        "        return x"
      ],
      "metadata": {
        "id": "PB4qmFNFbo_w"
      },
      "execution_count": 419,
      "outputs": []
    },
    {
      "cell_type": "code",
      "source": [
        "# Create the model\n",
        "model3 = Model3().to(device)"
      ],
      "metadata": {
        "id": "mzA8T_oebgsH"
      },
      "execution_count": 420,
      "outputs": []
    },
    {
      "cell_type": "code",
      "source": [
        "# Define the optimizer\n",
        "optimizer3 = optim.Adam(model3.parameters(), lr=0.001)"
      ],
      "metadata": {
        "id": "9hLEM6nXblV8"
      },
      "execution_count": 421,
      "outputs": []
    },
    {
      "cell_type": "code",
      "source": [
        "# Training and evaluation for Model 3\n",
        "for epoch in range(num_epochs):\n",
        "    loss = train_model(model3, optimizer3)\n",
        "    accuracy = evaluate_model(model3)\n",
        "    print(f\"Model 3 - Epoch [{epoch+1}/{num_epochs}], Loss: {loss:.4f}, Accuracy: {accuracy:.4f}\")\n"
      ],
      "metadata": {
        "colab": {
          "base_uri": "https://localhost:8080/"
        },
        "id": "22HDZ2ZNblZZ",
        "outputId": "c3bafa91-8541-404b-9ad0-25cf21506e24"
      },
      "execution_count": 425,
      "outputs": [
        {
          "output_type": "stream",
          "name": "stdout",
          "text": [
            "Model 3 - Epoch [1/5], Loss: 1.6932, Accuracy: 0.4219\n",
            "Model 3 - Epoch [2/5], Loss: 1.5167, Accuracy: 0.4694\n",
            "Model 3 - Epoch [3/5], Loss: 1.4220, Accuracy: 0.5055\n",
            "Model 3 - Epoch [4/5], Loss: 1.3502, Accuracy: 0.5329\n",
            "Model 3 - Epoch [5/5], Loss: 1.2920, Accuracy: 0.5419\n"
          ]
        }
      ]
    },
    {
      "cell_type": "code",
      "source": [
        "# Count the number of parameters for model\n",
        "params3 = count_parameters(model3)"
      ],
      "metadata": {
        "id": "SaIkkJbTblfT"
      },
      "execution_count": 423,
      "outputs": []
    },
    {
      "cell_type": "code",
      "source": [
        "# Print the comparison table\n",
        "print(\"Model\\t\\tParameters\")\n",
        "print(\"----------------------------\")\n",
        "print(f\"Model 3:\\t{params3}\")"
      ],
      "metadata": {
        "colab": {
          "base_uri": "https://localhost:8080/"
        },
        "id": "FDZtqlyzcXY6",
        "outputId": "a1837b1c-0084-4688-b423-417142a76b8d"
      },
      "execution_count": 424,
      "outputs": [
        {
          "output_type": "stream",
          "name": "stdout",
          "text": [
            "Model\t\tParameters\n",
            "----------------------------\n",
            "Model 3:\t7126\n"
          ]
        }
      ]
    },
    {
      "cell_type": "markdown",
      "source": [
        "CNN architecure 4"
      ],
      "metadata": {
        "id": "d_D_DhM3c7_p"
      }
    },
    {
      "cell_type": "code",
      "source": [
        "class Model4(nn.Module):\n",
        "    def __init__(self):\n",
        "        super(Model4, self).__init__()\n",
        "        self.conv1 = nn.Conv2d(3, 4, 4,stride = 2, padding=1)\n",
        "        self.conv2 = nn.Conv2d(4, 16, 3, padding=1)\n",
        "        self.pool = nn.MaxPool2d(2, 2)\n",
        "        self.fc1 = nn.Linear(16 * 4 * 4, 24)\n",
        "        self.fc2 = nn.Linear(24, 10)\n",
        "\n",
        "    def forward(self, x):\n",
        "        x = self.pool(torch.relu(self.conv1(x)))\n",
        "        x = self.pool(torch.relu(self.conv2(x)))\n",
        "        x = x.view(-1, 16 * 4 * 4)\n",
        "        x = torch.relu(self.fc1(x))\n",
        "        x = self.fc2(x)\n",
        "        return x"
      ],
      "metadata": {
        "id": "g5e16HCOc6L8"
      },
      "execution_count": 432,
      "outputs": []
    },
    {
      "cell_type": "code",
      "source": [
        "# Create the five model\n",
        "model4 = Model4().to(device)"
      ],
      "metadata": {
        "id": "xo3Z0MBYc6pR"
      },
      "execution_count": 433,
      "outputs": []
    },
    {
      "cell_type": "code",
      "source": [
        "# Define the optimizer\n",
        "optimizer4 = optim.Adam(model4.parameters(), lr=0.001)"
      ],
      "metadata": {
        "id": "THQEz5T_dj0i"
      },
      "execution_count": 434,
      "outputs": []
    },
    {
      "cell_type": "code",
      "source": [
        "# Training and evaluation for Model 4\n",
        "for epoch in range(num_epochs):\n",
        "    loss = train_model(model4, optimizer4)\n",
        "    accuracy = evaluate_model(model4)\n",
        "    print(f\"Model 4 - Epoch [{epoch+1}/{num_epochs}], Loss: {loss:.4f}, Accuracy: {accuracy:.4f}\")\n"
      ],
      "metadata": {
        "id": "saK9IjSQc6so",
        "colab": {
          "base_uri": "https://localhost:8080/"
        },
        "outputId": "bd051327-e6cd-4724-c476-312629e05833"
      },
      "execution_count": 438,
      "outputs": [
        {
          "output_type": "stream",
          "name": "stdout",
          "text": [
            "Model 4 - Epoch [1/5], Loss: 1.6648, Accuracy: 0.4440\n",
            "Model 4 - Epoch [2/5], Loss: 1.5188, Accuracy: 0.4644\n",
            "Model 4 - Epoch [3/5], Loss: 1.4521, Accuracy: 0.4864\n",
            "Model 4 - Epoch [4/5], Loss: 1.4121, Accuracy: 0.4952\n",
            "Model 4 - Epoch [5/5], Loss: 1.3823, Accuracy: 0.4968\n"
          ]
        }
      ]
    },
    {
      "cell_type": "code",
      "source": [
        "# Count the number of parameters for each model\n",
        "params4 = count_parameters(model4)"
      ],
      "metadata": {
        "id": "Z0hqcCwQc6vu"
      },
      "execution_count": 436,
      "outputs": []
    },
    {
      "cell_type": "code",
      "source": [
        "# Print the comparison table\n",
        "print(\"Model\\t\\tParameters\")\n",
        "print(\"----------------------------\")\n",
        "print(f\"Model 4:\\t{params4}\")"
      ],
      "metadata": {
        "colab": {
          "base_uri": "https://localhost:8080/"
        },
        "id": "jgVVufHqc6yz",
        "outputId": "204c0e29-f39a-492c-963f-9738203f8a30"
      },
      "execution_count": 437,
      "outputs": [
        {
          "output_type": "stream",
          "name": "stdout",
          "text": [
            "Model\t\tParameters\n",
            "----------------------------\n",
            "Model 4:\t7206\n"
          ]
        }
      ]
    },
    {
      "cell_type": "markdown",
      "source": [
        "CNN architecure 5"
      ],
      "metadata": {
        "id": "tqmdut9xfHrm"
      }
    },
    {
      "cell_type": "code",
      "source": [
        "class Model5(nn.Module):\n",
        "    def __init__(self):\n",
        "        super(Model5, self).__init__()\n",
        "        self.conv1 = nn.Conv2d(3, 6, 3, padding=1)\n",
        "        self.conv2 = nn.Conv2d(6, 8,4,stride = 2, padding=1)\n",
        "        self.pool = nn.MaxPool2d(2, 2)\n",
        "        self.fc1 = nn.Linear(8 * 4 * 4, 24)\n",
        "        self.fc2 = nn.Linear(24, 10)\n",
        "\n",
        "    def forward(self, x):\n",
        "        x = self.pool(torch.relu(self.conv1(x)))\n",
        "        x = self.pool(torch.relu(self.conv2(x)))\n",
        "        x = x.view(-1, 8 * 4 * 4)\n",
        "        x = torch.relu(self.fc1(x))\n",
        "        x = self.fc2(x)\n",
        "        return x"
      ],
      "metadata": {
        "id": "tm-7KM88fEaM"
      },
      "execution_count": 439,
      "outputs": []
    },
    {
      "cell_type": "code",
      "source": [
        "# Create the five model\n",
        "model5 = Model5().to(device)"
      ],
      "metadata": {
        "id": "AqzCUEELc62Y"
      },
      "execution_count": 440,
      "outputs": []
    },
    {
      "cell_type": "code",
      "source": [
        "# Define the optimizer\n",
        "optimizer5 = optim.Adam(model5.parameters(), lr=0.001)"
      ],
      "metadata": {
        "id": "MXRIRiqhc65z"
      },
      "execution_count": 441,
      "outputs": []
    },
    {
      "cell_type": "code",
      "source": [
        "# Training and evaluation for Model 5\n",
        "for epoch in range(num_epochs):\n",
        "    loss = train_model(model5, optimizer5)\n",
        "    accuracy = evaluate_model(model5)\n",
        "    print(f\"Model 5 - Epoch [{epoch+1}/{num_epochs}], Loss: {loss:.4f}, Accuracy: {accuracy:.4f}\")"
      ],
      "metadata": {
        "colab": {
          "base_uri": "https://localhost:8080/"
        },
        "id": "NakG_kcqc69M",
        "outputId": "1ca1beb6-604e-4bb4-d42b-77901c4470d0"
      },
      "execution_count": 444,
      "outputs": [
        {
          "output_type": "stream",
          "name": "stdout",
          "text": [
            "Model 5 - Epoch [1/5], Loss: 1.8469, Accuracy: 0.4127\n",
            "Model 5 - Epoch [2/5], Loss: 1.5585, Accuracy: 0.4531\n",
            "Model 5 - Epoch [3/5], Loss: 1.4897, Accuracy: 0.4646\n",
            "Model 5 - Epoch [4/5], Loss: 1.4474, Accuracy: 0.4898\n",
            "Model 5 - Epoch [5/5], Loss: 1.4157, Accuracy: 0.4897\n"
          ]
        }
      ]
    },
    {
      "cell_type": "code",
      "source": [
        "# Count the number of parameters model\n",
        "params5 = count_parameters(model5)"
      ],
      "metadata": {
        "id": "dOZJ-NHGc7AW"
      },
      "execution_count": 442,
      "outputs": []
    },
    {
      "cell_type": "code",
      "source": [
        "# Print the comparison table\n",
        "print(\"Model\\t\\tParameters\")\n",
        "print(\"----------------------------\")\n",
        "print(f\"Model 5:\\t{params5}\")"
      ],
      "metadata": {
        "colab": {
          "base_uri": "https://localhost:8080/"
        },
        "id": "KVWHzB19c7Dv",
        "outputId": "8238c61e-12d8-4576-f834-4d682d406c84"
      },
      "execution_count": 443,
      "outputs": [
        {
          "output_type": "stream",
          "name": "stdout",
          "text": [
            "Model\t\tParameters\n",
            "----------------------------\n",
            "Model 5:\t4290\n"
          ]
        }
      ]
    }
  ]
}