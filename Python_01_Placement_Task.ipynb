{
  "nbformat": 4,
  "nbformat_minor": 0,
  "metadata": {
    "colab": {
      "provenance": [],
      "authorship_tag": "ABX9TyNBC9hTxt/6Rxnwrg7KERp2",
      "include_colab_link": true
    },
    "kernelspec": {
      "name": "python3",
      "display_name": "Python 3"
    },
    "language_info": {
      "name": "python"
    },
    "gpuClass": "standard"
  },
  "cells": [
    {
      "cell_type": "markdown",
      "metadata": {
        "id": "view-in-github",
        "colab_type": "text"
      },
      "source": [
        "<a href=\"https://colab.research.google.com/github/Imran0897/Placement-Assignment_Md_Imran/blob/main/Python_01_Placement_Task.ipynb\" target=\"_parent\"><img src=\"https://colab.research.google.com/assets/colab-badge.svg\" alt=\"Open In Colab\"/></a>"
      ]
    },
    {
      "cell_type": "code",
      "execution_count": 38,
      "metadata": {
        "id": "FJGoDH1YiaFT"
      },
      "outputs": [],
      "source": [
        "def Highest_frq_word_len(s):\n",
        "\n",
        "  word = s.split()\n",
        "\n",
        "  freq = {}\n",
        "\n",
        "  for i in set(word):\n",
        "\n",
        "    freq[i]=word.count(i)\n",
        "\n",
        "  max_freq = max(freq.values())\n",
        "\n",
        "  max_freq_word = [i for i in freq.keys() if freq[i]==max_freq]\n",
        "\n",
        "  max_len = []\n",
        "\n",
        "  for i in max_freq_word:\n",
        "    max_len.append(len(i))\n",
        "  \n",
        "  return max(max_len)"
      ]
    },
    {
      "cell_type": "markdown",
      "source": [
        "Test_01"
      ],
      "metadata": {
        "id": "HWHK5GkS4DPD"
      }
    },
    {
      "cell_type": "code",
      "source": [
        "Highest_frq_word_len(\"Apple Mangoes Orange Mangoes Guava Guava Mangoes\")"
      ],
      "metadata": {
        "colab": {
          "base_uri": "https://localhost:8080/"
        },
        "id": "HWu8Omdy2Djm",
        "outputId": "a904f97d-4512-4bf6-c6bd-459d9c308494"
      },
      "execution_count": 39,
      "outputs": [
        {
          "output_type": "execute_result",
          "data": {
            "text/plain": [
              "7"
            ]
          },
          "metadata": {},
          "execution_count": 39
        }
      ]
    },
    {
      "cell_type": "markdown",
      "source": [
        "Expaination -\n",
        "\n",
        "From the given string we can note that the most frequent words are “Mangoes” and its corresponding length is 7"
      ],
      "metadata": {
        "id": "gGHkFXQz4zBV"
      }
    },
    {
      "cell_type": "markdown",
      "source": [
        "Test_02"
      ],
      "metadata": {
        "id": "PLW8f4fn4F0j"
      }
    },
    {
      "cell_type": "code",
      "source": [
        "Highest_frq_word_len('Train cycle Bus cycle Bus Train Taxi Aeroplane cycle Taxi Bus')"
      ],
      "metadata": {
        "colab": {
          "base_uri": "https://localhost:8080/"
        },
        "id": "b8S3_ZXe4AmN",
        "outputId": "296efffb-be93-4eed-ade3-c752f3671680"
      },
      "execution_count": 40,
      "outputs": [
        {
          "output_type": "execute_result",
          "data": {
            "text/plain": [
              "5"
            ]
          },
          "metadata": {},
          "execution_count": 40
        }
      ]
    },
    {
      "cell_type": "markdown",
      "source": [
        "Explaination - \n",
        "\n",
        "From the given string we can note that the most frequent words are \"cycle\" and “Bus” and\n",
        "the maximum value of both the values is “cycle” and its corresponding length is 5"
      ],
      "metadata": {
        "id": "p26a8RGx5JaV"
      }
    }
  ]
}