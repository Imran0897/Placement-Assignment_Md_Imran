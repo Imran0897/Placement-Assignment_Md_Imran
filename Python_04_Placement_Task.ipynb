{
  "nbformat": 4,
  "nbformat_minor": 0,
  "metadata": {
    "colab": {
      "provenance": [],
      "authorship_tag": "ABX9TyMGY5yLV7b25NHfx2zP3/11",
      "include_colab_link": true
    },
    "kernelspec": {
      "name": "python3",
      "display_name": "Python 3"
    },
    "language_info": {
      "name": "python"
    }
  },
  "cells": [
    {
      "cell_type": "markdown",
      "metadata": {
        "id": "view-in-github",
        "colab_type": "text"
      },
      "source": [
        "<a href=\"https://colab.research.google.com/github/Imran0897/Placement-Assignment_Md_Imran/blob/main/Python_04_Placement_Task.ipynb\" target=\"_parent\"><img src=\"https://colab.research.google.com/assets/colab-badge.svg\" alt=\"Open In Colab\"/></a>"
      ]
    },
    {
      "cell_type": "code",
      "source": [
        "\n",
        "import requests\n",
        "import csv\n",
        "\n",
        "#loading data from url\n",
        "response = requests.get(\"https://data.nasa.gov/resource/y77d-th95.json\")\n",
        "data = response.json()\n",
        "\n",
        "\n",
        "# we will open a file in writing mode\n",
        "data_file = open('NASA.csv', 'w')\n",
        "\n",
        "# creating csv writer \n",
        "csv_writer = csv.writer(data_file)\n",
        "\n",
        "count = 0\n",
        "for i in data:\n",
        "\tif count == 0:\n",
        "\n",
        "\t\t# Writing headers of CSV file\n",
        "\t\theader = i.keys()\n",
        "\t\tcsv_writer.writerow(header)\n",
        "\t\tcount += 1\n",
        "\n",
        "\t# Writing data of CSV file\n",
        "\tcsv_writer.writerow(i.values())\n",
        "\n",
        "data_file.close()"
      ],
      "metadata": {
        "id": "e03mvQ4yPagJ"
      },
      "execution_count": 72,
      "outputs": []
    }
  ]
}