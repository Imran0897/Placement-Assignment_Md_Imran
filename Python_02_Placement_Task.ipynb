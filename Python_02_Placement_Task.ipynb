{
  "nbformat": 4,
  "nbformat_minor": 0,
  "metadata": {
    "colab": {
      "provenance": [],
      "authorship_tag": "ABX9TyNF3Vi1dGNyYmIHl/zJwMWi",
      "include_colab_link": true
    },
    "kernelspec": {
      "name": "python3",
      "display_name": "Python 3"
    },
    "language_info": {
      "name": "python"
    }
  },
  "cells": [
    {
      "cell_type": "markdown",
      "metadata": {
        "id": "view-in-github",
        "colab_type": "text"
      },
      "source": [
        "<a href=\"https://colab.research.google.com/github/Imran0897/Placement-Assignment_Md_Imran/blob/main/Python_02_Placement_Task.ipynb\" target=\"_parent\"><img src=\"https://colab.research.google.com/assets/colab-badge.svg\" alt=\"Open In Colab\"/></a>"
      ]
    },
    {
      "cell_type": "code",
      "execution_count": 24,
      "metadata": {
        "id": "NHhrSnTl9Xgs"
      },
      "outputs": [],
      "source": [
        "#define function\n",
        "def is_valid(s):\n",
        "\n",
        "  freq = {}\n",
        "  l = []\n",
        "  for i in s:\n",
        "    l.append(i)\n",
        "\n",
        "  for i in set(l):\n",
        "    freq[i]=l.count(i)\n",
        "\n",
        "  a = set(freq.values())\n",
        "  if len(a)==1:\n",
        "    print(\"its valid\")\n",
        "  elif len(a)!=1:\n",
        "    maxi = max(list(a))\n",
        "    for j in freq.keys():\n",
        "      if freq[j]==maxi:\n",
        "        freq[j]=maxi-1\n",
        "      else:\n",
        "        pass\n",
        "    if len(set(freq.values()))==1:\n",
        "      print(\"its valid\")\n",
        "    else:\n",
        "      print(\"its invalid\")"
      ]
    },
    {
      "cell_type": "markdown",
      "source": [
        "Input - 1"
      ],
      "metadata": {
        "id": "xeFoZ0Wd6YM4"
      }
    },
    {
      "cell_type": "code",
      "source": [
        "is_valid(\"aabbbcc\")"
      ],
      "metadata": {
        "colab": {
          "base_uri": "https://localhost:8080/"
        },
        "id": "KJfAZI2z22wm",
        "outputId": "0f674fcd-65f2-483d-c6a7-449794f581d5"
      },
      "execution_count": 25,
      "outputs": [
        {
          "output_type": "stream",
          "name": "stdout",
          "text": [
            "its valid\n"
          ]
        }
      ]
    },
    {
      "cell_type": "markdown",
      "source": [
        "Explaination\n",
        "\n",
        "input 1 - s = “aabbcc”. This is a valid string because frequencies are { “a”: 2, “b”: 2, “c”: 2 }\n"
      ],
      "metadata": {
        "id": "mfjbxhM97EUl"
      }
    },
    {
      "cell_type": "markdown",
      "source": [
        "Input 2"
      ],
      "metadata": {
        "id": "HkVxPOmv6ncE"
      }
    },
    {
      "cell_type": "code",
      "source": [
        "is_valid(\"aabbcccc\")"
      ],
      "metadata": {
        "colab": {
          "base_uri": "https://localhost:8080/"
        },
        "id": "Z7AnhnoG6mB3",
        "outputId": "c6d8c961-9242-4ced-8262-17e7e711d806"
      },
      "execution_count": 27,
      "outputs": [
        {
          "output_type": "stream",
          "name": "stdout",
          "text": [
            "its invalid\n"
          ]
        }
      ]
    },
    {
      "cell_type": "markdown",
      "source": [
        "Explaination\n",
        "\n",
        "input 2 - s “aabbcccc”. This string is not valid as we can remove only 1 occurrence of “c”. That leaves\n",
        "character frequencies of { “a”: 2, “b”: 2 , “c”: 3 }"
      ],
      "metadata": {
        "id": "Q2Gm4aXM7Soe"
      }
    }
  ]
}