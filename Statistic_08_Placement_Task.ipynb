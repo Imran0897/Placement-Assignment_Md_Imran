{
  "nbformat": 4,
  "nbformat_minor": 0,
  "metadata": {
    "colab": {
      "provenance": [],
      "authorship_tag": "ABX9TyP2p3vwKTC1tFZVXoSodBMn",
      "include_colab_link": true
    },
    "kernelspec": {
      "name": "python3",
      "display_name": "Python 3"
    },
    "language_info": {
      "name": "python"
    }
  },
  "cells": [
    {
      "cell_type": "markdown",
      "metadata": {
        "id": "view-in-github",
        "colab_type": "text"
      },
      "source": [
        "<a href=\"https://colab.research.google.com/github/Imran0897/Placement-Assignment_Md_Imran/blob/main/Statistic_08_Placement_Task.ipynb\" target=\"_parent\"><img src=\"https://colab.research.google.com/assets/colab-badge.svg\" alt=\"Open In Colab\"/></a>"
      ]
    },
    {
      "cell_type": "code",
      "source": [
        "# Given data\n",
        "before_therapy = [10, 8, 12, 15, 6, 9, 11, 7, 14, 10]\n",
        "after_therapy =  [7, 6, 10, 12, 5, 8, 9, 6, 12, 8]\n",
        "difference =     [-3,-2,-2,-3,-1,-1,-2,-1,-2,-2]"
      ],
      "metadata": {
        "id": "xq1msfYSIKry"
      },
      "execution_count": 1,
      "outputs": []
    },
    {
      "cell_type": "markdown",
      "source": [
        "To perform the Wilcoxon signed-rank test on the given data to test whether the therapy had a significant effect on anxiety levels, we need to follow these steps:"
      ],
      "metadata": {
        "id": "WKv-UUPhJBIE"
      }
    },
    {
      "cell_type": "code",
      "source": [
        "from scipy.stats import wilcoxon\n",
        "\n",
        "# Perform the Wilcoxon signed-rank test\n",
        "statistic, p_value = wilcoxon(difference)\n",
        "\n",
        "# Interpret the result\n",
        "alpha = 0.05  # significance level\n",
        "\n",
        "if p_value < alpha:\n",
        "    print(\"The therapy had a significant effect on anxiety levels.\")\n",
        "else:\n",
        "    print(\"The therapy did not have a significant effect on anxiety levels.\")"
      ],
      "metadata": {
        "colab": {
          "base_uri": "https://localhost:8080/"
        },
        "id": "XV-Zn86LI7yS",
        "outputId": "efbc6898-645d-405f-fd04-b73d345458c5"
      },
      "execution_count": 2,
      "outputs": [
        {
          "output_type": "stream",
          "name": "stdout",
          "text": [
            "The therapy had a significant effect on anxiety levels.\n"
          ]
        }
      ]
    }
  ]
}