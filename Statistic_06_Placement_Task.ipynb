{
  "nbformat": 4,
  "nbformat_minor": 0,
  "metadata": {
    "colab": {
      "provenance": [],
      "authorship_tag": "ABX9TyODfM5xNbiCxE0r1hqhSLJ0",
      "include_colab_link": true
    },
    "kernelspec": {
      "name": "python3",
      "display_name": "Python 3"
    },
    "language_info": {
      "name": "python"
    }
  },
  "cells": [
    {
      "cell_type": "markdown",
      "metadata": {
        "id": "view-in-github",
        "colab_type": "text"
      },
      "source": [
        "<a href=\"https://colab.research.google.com/github/Imran0897/Placement-Assignment_Md_Imran/blob/main/Statistic_06_Placement_Task.ipynb\" target=\"_parent\"><img src=\"https://colab.research.google.com/assets/colab-badge.svg\" alt=\"Open In Colab\"/></a>"
      ]
    },
    {
      "cell_type": "markdown",
      "source": [
        "To determine if the change in blood pressure follows a normal distribution, we can perform a normality test on the data. One commonly used test is the Shapiro-Wilk test. \n",
        "\n",
        "The Shapiro-Wilk test assesses the null hypothesis that a sample comes from a normally distributed population. By applying this test to the change in blood pressure data, we can determine if it follows a normal distribution or not."
      ],
      "metadata": {
        "id": "XhErCjTxBm32"
      }
    },
    {
      "cell_type": "code",
      "source": [
        "blood_pressure_before = [130,142,120,135,148,122,137,130,142,128,135,140,132,145,124,128,136,143,127,139,135,131,127,130,142,128,136,140,132,145,124,128,136,143,127,139,135,131,127,130,142,128,136,140,132,145,124,128,136,143,127,139,135,131,127,130,142,128,136,140,132,145,124,128,136,143,127,139,135,131,127,130,142,128,136,140,132,145,124,128,136,143,127,139,135,131,127,130,128,136,140,132,145,124,128,136,143,127,139,135]"
      ],
      "metadata": {
        "id": "QpuqGXDGBphl"
      },
      "execution_count": null,
      "outputs": []
    },
    {
      "cell_type": "code",
      "source": [
        "blood_pressure_after = [120,135,118,127,140,118,129,124,137,125,129,132,125,136,118,122,130,139,123,132,131,126,120,123,139,122,129,136,127,140,119,121,129,137,122,135,129,124,119,124,139,123,131,135,127,141,118,121,129,137,123,135,130,125,121,124,139,123,131,136,127,141,118,121,129,137,123,135,130,124,121,124,139,123,131,136,127,141,118,121,129,137,123,135,130,125,121,124,122,129,135,127,141,118,121,129,137,123,135,130]"
      ],
      "metadata": {
        "id": "2JJsyULyAh61"
      },
      "execution_count": null,
      "outputs": []
    },
    {
      "cell_type": "code",
      "source": [
        "change_in_blood_pressure = []\n",
        "\n",
        "for i in range(100):\n",
        "  change_in_blood_pressure.append(blood_pressure_before[i]-blood_pressure_after[i])"
      ],
      "metadata": {
        "id": "UEbl_u63Ax7L"
      },
      "execution_count": null,
      "outputs": []
    },
    {
      "cell_type": "code",
      "source": [
        "from scipy.stats import shapiro\n",
        "\n",
        "# Assume 'change_in_blood_pressure' contains the actual change in blood pressure data\n",
        "\n",
        "# Perform Shapiro-Wilk test\n",
        "statistic, p_value = shapiro(change_in_blood_pressure)\n",
        "\n",
        "print(p_value)\n",
        "\n",
        "# Interpret the result\n",
        "alpha = 0.05  # significance level\n",
        "\n",
        "if p_value > alpha:\n",
        "    print(\"The change in blood pressure data follows a normal distribution.\")\n",
        "else:\n",
        "    print(\"The change in blood pressure data does not follow a normal distribution.\")"
      ],
      "metadata": {
        "colab": {
          "base_uri": "https://localhost:8080/"
        },
        "id": "jPgqClkeAl4a",
        "outputId": "f9ff2983-9254-45e4-b1ec-3b9a70abb047"
      },
      "execution_count": null,
      "outputs": [
        {
          "output_type": "stream",
          "name": "stdout",
          "text": [
            "0.0014940275577828288\n",
            "The change in blood pressure data does not follow a normal distribution.\n"
          ]
        }
      ]
    }
  ]
}